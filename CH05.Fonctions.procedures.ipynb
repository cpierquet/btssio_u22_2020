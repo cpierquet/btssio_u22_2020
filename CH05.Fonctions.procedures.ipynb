{
 "cells": [
  {
   "cell_type": "markdown",
   "metadata": {},
   "source": [
    "# <center><span style=\"color:red;font-weight: bold\">Chapitre 05 - Fonctions et procédures</span></center>"
   ]
  },
  {
   "cell_type": "markdown",
   "metadata": {},
   "source": [
    "## <span style=\"font-weight: bold;color:purple\">Plan</span>\n",
    "\n",
    "[Introduction](#0.-Introduction) | [Procédures](#I.-Les-procédures) | [Fonctions](#II.-Les-fonctions) | [Paramètres](#III.-Les-paramètres) | [Exemples](#IV.-Exemples-liés-à-des-TDs-précédents) | [Exercices](#V.-Exercices)"
   ]
  },
  {
   "cell_type": "markdown",
   "metadata": {},
   "source": [
    "## <span style=\"font-weight: bold;color:purple\">0. Introduction</span>\n",
    "\n",
    "Lors d'un travail algorithmique, on peut être amené à _découper_ un problème en sous-problèmes.\n",
    "Chacun de ces sous-problèmes devient lui-même un problème à résoudre.\n",
    "\n",
    "On peut également être amené à _répéter_ une séquence d'instructions plusieurs fois.\n",
    "On peut donc créer un sous-programme qui sera __appelé__ à chaque fois ue nécessaire.\n",
    "\n",
    "En algorithmique, il existe deux types de sous-programmes :\n",
    "* les procédures ;\n",
    "* les fonctions.\n",
    "\n",
    "Lorsqu'un sous-programme a été créé, son nom devient une **nouvelle instruction** qui peut être utilisée dans d'autres sous-programmes.\n",
    "\n",
    "\n",
    "On peut découper un (gros) programme en :\n",
    "* un programme principal ;\n",
    "* un (ou des) (sous-)programme(s) appelant(s) ;\n",
    "* un (ou des) sous-programme(s).\n",
    "\n",
    "\n",
    "NB : Les cellules suivantes sont à exécuter une par une, si jamais il faut redémarrer le noyau, il faudra tout relancer ;-)"
   ]
  },
  {
   "cell_type": "markdown",
   "metadata": {},
   "source": [
    "## <span style=\"font-weight: bold;color:purple\">I. Les procédures</span>\n",
    "\n",
    "Une procédure est un sous-programme (ou sous-algorithme) qui exécute des instructions.\n",
    "On l'appelle en écrivant tout simplement son nom.\n",
    "Son nom, toujours suivi de parenthèses, est souvent un verbe.\n",
    "\n",
    "En **python**, une procédure est un bloc dans lequel le mot clé rentrant est _def_. Le corps de la procédure devient de ce fait indenté de la même manière que les autres blocs (_if_, _while_, _for_, etc)."
   ]
  },
  {
   "cell_type": "code",
   "execution_count": null,
   "metadata": {},
   "outputs": [],
   "source": [
    "#Exemple 1 - Tracer un trait composé de 12%\n",
    "def tracertrait():\n",
    "    print(\"%%%%%%%%%%%%\")"
   ]
  },
  {
   "cell_type": "markdown",
   "metadata": {},
   "source": [
    "Une fois la procédure déclarée et _chargée_, rien ne se passe, car il faut **appeler** cette procédure ! "
   ]
  },
  {
   "cell_type": "code",
   "execution_count": null,
   "metadata": {},
   "outputs": [],
   "source": [
    "tracertrait()\n",
    "tracertrait()\n",
    "tracertrait()\n",
    "print('')\n",
    "for i in range(4):\n",
    "    tracertrait()"
   ]
  },
  {
   "cell_type": "code",
   "execution_count": null,
   "metadata": {},
   "outputs": [],
   "source": [
    "#Exemple 2 - Somme de deux entiers\n",
    "def additionner():\n",
    "    a = int(input(\"Entrer le premier entier : \"))\n",
    "    b = int(input(\"Entrer le second entier : \"))\n",
    "    somme = a + b\n",
    "    print(f\"La somme de vos deux entiers vaut {somme}\")"
   ]
  },
  {
   "cell_type": "code",
   "execution_count": null,
   "metadata": {},
   "outputs": [],
   "source": [
    "additionner()\n",
    "additionner()\n",
    "print('')\n",
    "for i in range(3):\n",
    "    additionner()"
   ]
  },
  {
   "cell_type": "markdown",
   "metadata": {},
   "source": [
    "## <span style=\"font-weight: bold;color:purple\">II. Les fonctions</span>\n",
    "\n",
    "Une fonction est un sous-programme (ou sous-algorithme) qui renvoie **un seul résultat**.\n",
    "La dernière instruction d'une fonction sera le **renvoi** (Retourner ou return) de la valeur en question.\n",
    "la fonction intervient de ce fait comme une **variable** dans l'algorithme qui l'invoque !\n",
    "\n",
    "En **python**, une fonction est un bloc dans lequel le mot clé rentrant est également _def_. Le corps de la fonction devient de ce fait également indenté de la même manière que les autres blocs (_if_, _while_, _for_, etc).\n",
    "\n",
    "Dans une fonction, on évite donc les _input_ ou _print_ pour ne faire QUE renvoyer une valeur ! Sinon c'est une procédure ;-)\n",
    "\n",
    "**Attention, les instructions après le return ne sont pas effectuées.**"
   ]
  },
  {
   "cell_type": "markdown",
   "metadata": {},
   "source": [
    "En pseudo-code, on présente comme suit :<br>\n",
    "<blockquote>Fonction nom_fonction () :<br>\n",
    "Variables : ...<br>\n",
    "DEBUT Fonction<br>\n",
    "&nbsp;&nbsp;&nbsp;&nbsp;&nbsp;&nbsp;&nbsp;&nbsp;Instructions<br>\n",
    "&nbsp;&nbsp;&nbsp;&nbsp;&nbsp;&nbsp;&nbsp;&nbsp;Retourner : valeur_1 , valeur_2 ,...<br>\n",
    "FIN Fonction</blockquote>\n"
   ]
  },
  {
   "cell_type": "markdown",
   "metadata": {},
   "source": [
    "En python, on utilise la syntaxe :\n",
    "```Python\n",
    "def nom_fonction() :\n",
    "    \"\"\"Aide de la fonction\"\"\"\n",
    "    instructions\n",
    "    return valeur_1, valeur_2,...\n",
    "```"
   ]
  },
  {
   "cell_type": "code",
   "execution_count": null,
   "metadata": {},
   "outputs": [],
   "source": [
    "#Exemple3 - Fonction 42 !\n",
    "def quarantedeux():\n",
    "    \"\"\"Retourne 42\"\"\"\n",
    "    return 42\n",
    "\n",
    "def quarantedeuxpoint():\n",
    "    \"\"\"Retourne 42.0\"\"\"\n",
    "    return 42.0\n",
    "\n",
    "def quarantedeuxbis():\n",
    "    \"\"\"Illustre l'importance du return\"\"\"\n",
    "    return 42\n",
    "    if 42>0: #non traité !!\n",
    "        return 43"
   ]
  },
  {
   "cell_type": "code",
   "execution_count": null,
   "metadata": {},
   "outputs": [],
   "source": [
    "quarantedeux()"
   ]
  },
  {
   "cell_type": "code",
   "execution_count": null,
   "metadata": {},
   "outputs": [],
   "source": [
    "quarantedeuxpoint()"
   ]
  },
  {
   "cell_type": "code",
   "execution_count": null,
   "metadata": {},
   "outputs": [],
   "source": [
    "quarantedeuxbis()"
   ]
  },
  {
   "cell_type": "markdown",
   "metadata": {},
   "source": [
    "L'**avantage** est que `quarantedeux()` devient une variable manipulable ultérieurement (avec un type dépendant du résultat) !"
   ]
  },
  {
   "cell_type": "code",
   "execution_count": null,
   "metadata": {},
   "outputs": [],
   "source": [
    "type(quarantedeux)"
   ]
  },
  {
   "cell_type": "code",
   "execution_count": null,
   "metadata": {},
   "outputs": [],
   "source": [
    "type(quarantedeux())"
   ]
  },
  {
   "cell_type": "code",
   "execution_count": null,
   "metadata": {},
   "outputs": [],
   "source": [
    "type(quarantedeuxpoint())"
   ]
  },
  {
   "cell_type": "code",
   "execution_count": null,
   "metadata": {},
   "outputs": [],
   "source": [
    "help(quarantedeux)\n",
    "help(quarantedeuxpoint)"
   ]
  },
  {
   "cell_type": "code",
   "execution_count": null,
   "metadata": {},
   "outputs": [],
   "source": [
    "quarantedeux()+quarantedeux()"
   ]
  },
  {
   "cell_type": "markdown",
   "metadata": {},
   "source": [
    "## <span style=\"font-weight: bold;color:purple\">III. Les paramètres</span>\n",
    "\n",
    "Dans une procédure (ou une fonction), on peut gérer les **entrées** sous forme de paramètres, à mettre dans les parenthèses après le nom de la préocédure/fonction.<br>\n",
    "Le **gros avantage** est qu'en Python, le transtypage n'est plus nécessaire, celui-ci se faisant automatiquement en fonction des paramètres saisis (il faut juste être cohérent ensuite lors des instructions à effectuer !)"
   ]
  },
  {
   "cell_type": "code",
   "execution_count": null,
   "metadata": {},
   "outputs": [],
   "source": [
    "#Exemple4a - Ligne de 12 caractères choisis (procédure)\n",
    "def tracertraitv2(car):\n",
    "    \"\"\"Trace un trait avec 12 fois <car>\"\"\"\n",
    "    print(12*car)\n",
    "\n",
    "#Exemple4b - Ligne de caractères double choix (procédure)\n",
    "def tracertraitv3(nb,car):\n",
    "    \"\"\"Trace un trait avec <nb> fois <car>\"\"\"\n",
    "    print(nb*car)"
   ]
  },
  {
   "cell_type": "code",
   "execution_count": null,
   "metadata": {},
   "outputs": [],
   "source": [
    "help(tracertraitv2)\n",
    "help(tracertraitv3)"
   ]
  },
  {
   "cell_type": "code",
   "execution_count": null,
   "metadata": {},
   "outputs": [],
   "source": [
    "tracertraitv2(\"$\")\n",
    "tracertraitv2(\"@\")\n",
    "tracertraitv3(7,\"*\")\n",
    "tracertraitv3(5,\"Cool ! \")\n",
    "tracertraitv3(15,6)"
   ]
  },
  {
   "cell_type": "code",
   "execution_count": null,
   "metadata": {},
   "outputs": [],
   "source": [
    "nbdefois = 25\n",
    "caractere = \"!\"\n",
    "tracertraitv3(nbdefois,caractere)"
   ]
  },
  {
   "cell_type": "code",
   "execution_count": null,
   "metadata": {},
   "outputs": [],
   "source": [
    "nbfois = int(input(\"Nombre de fois ? \"))\n",
    "caract = input(\"Caractère ? \")\n",
    "tracertraitv3(nbfois,caract)"
   ]
  },
  {
   "cell_type": "code",
   "execution_count": null,
   "metadata": {},
   "outputs": [],
   "source": [
    "for i in range(10):\n",
    "    tracertraitv3(i,\"*\")"
   ]
  },
  {
   "cell_type": "code",
   "execution_count": null,
   "metadata": {},
   "outputs": [],
   "source": [
    "#exemple5 - répétition d'instructions avec procédure et fonction\n",
    "\n",
    "def sommer(a,b):\n",
    "    \"\"\"Fonction qui retourne la somme des deux paramètres\"\"\"\n",
    "    return a+b\n",
    "\n",
    "def repeter():\n",
    "    \"\"\"Procédure d'appel de <sommer> avec répétition\"\"\"\n",
    "    choix = \"o\"\n",
    "    while choix == \"o\":\n",
    "        a = int(input(\"Entrer le premier entier : \"))\n",
    "        b = int(input(\"Entrer le second entier : \"))\n",
    "        print(sommer(a,b))\n",
    "        choix = input(\"Voulez-vous continuer [o/n] ? \")"
   ]
  },
  {
   "cell_type": "code",
   "execution_count": null,
   "metadata": {},
   "outputs": [],
   "source": [
    "repeter()"
   ]
  },
  {
   "cell_type": "markdown",
   "metadata": {},
   "source": [
    "## <span style=\"font-weight: bold;color:purple\">IV. Exemples liés à des exos précédents</span>\n",
    "\n",
    "Les exercices déjà traités précédemment peuvent ainsi être modifiés et intégrés dans des blocs __def__, l'avantage étant de pouvoir appeler les exos indépendamment, sans recharger le script !"
   ]
  },
  {
   "cell_type": "code",
   "execution_count": null,
   "metadata": {},
   "outputs": [],
   "source": [
    "#TD03 - Aritmétique - Version fonctionnelle\n",
    "\n",
    "def etudearithm(n):\n",
    "    \"\"\"Étude d'un entier (parfait, premier)\"\"\"\n",
    "    nbdiv = 0\n",
    "    sommediv = 0\n",
    "    for i in range(1,n+1) :\n",
    "        if n%i == 0:\n",
    "            print(f\"{i} divise {n}\")\n",
    "            nbdiv = nbdiv + 1\n",
    "            sommediv = sommediv + i\n",
    "    print(f\"{n} admet exactement {nbdiv} diviseurs\")\n",
    "    print(f\"La somme des diviseurs de {n} vaut {sommediv}\")\n",
    "    if nbdiv == 2 :\n",
    "        print(f\"{n} est un nombre premier !\")\n",
    "    if sommediv == 2*n :\n",
    "        print(f\"{n} est un nombre parfait !\")"
   ]
  },
  {
   "cell_type": "code",
   "execution_count": null,
   "metadata": {},
   "outputs": [],
   "source": [
    "etudearithm(6)\n",
    "print(\"-----------------\")\n",
    "for i in range(1,29):\n",
    "    etudearithm(i)\n",
    "    print(\"-----------------\")"
   ]
  },
  {
   "cell_type": "code",
   "execution_count": null,
   "metadata": {},
   "outputs": [],
   "source": []
  }
 ],
 "metadata": {
  "kernelspec": {
   "display_name": "Python 3",
   "language": "python",
   "name": "python3"
  },
  "language_info": {
   "codemirror_mode": {
    "name": "ipython",
    "version": 3
   },
   "file_extension": ".py",
   "mimetype": "text/x-python",
   "name": "python",
   "nbconvert_exporter": "python",
   "pygments_lexer": "ipython3",
   "version": "3.9.2"
  }
 },
 "nbformat": 4,
 "nbformat_minor": 4
}
