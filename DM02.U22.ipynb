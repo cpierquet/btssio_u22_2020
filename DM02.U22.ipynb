{
 "cells": [
  {
   "cell_type": "markdown",
   "metadata": {},
   "source": [
    "## **DM02 - Delta**"
   ]
  },
  {
   "cell_type": "code",
   "execution_count": 2,
   "metadata": {},
   "outputs": [],
   "source": [
    "from math import *\n",
    "def dm02(a,b,c):\n",
    "    print(f\"Valeur de a : {a}\")\n",
    "    print(f\"Valeur de b : {b}\")\n",
    "    print(f\"Valeur de c : {c}\")\n",
    "    delta = b**2 - 4*a*c\n",
    "    print(f\"La valeur de Delta est {delta}\")\n",
    "    if delta == 0 :\n",
    "        print(\"Il y a une solution\")\n",
    "        sol = -b/(2*a)\n",
    "        print(f\"La solution de l'équation est {sol}\")\n",
    "    elif delta < 0 :\n",
    "        print(f\"L'équation n'admet pas de solution réelle\")\n",
    "    else :\n",
    "        print(\"Il y a deux solutions\")\n",
    "        sol1 = (-b+sqrt(delta))/(2*a)\n",
    "        sol2 = (-b-sqrt(delta))/(2*a)\n",
    "        print(f\"Les solutions de l'équation sont {sol1} et {sol2}\")"
   ]
  },
  {
   "cell_type": "code",
   "execution_count": 3,
   "metadata": {},
   "outputs": [
    {
     "name": "stdout",
     "output_type": "stream",
     "text": [
      "Valeur de a : 1\n",
      "Valeur de b : 1\n",
      "Valeur de c : 1\n",
      "La valeur de Delta est -3\n",
      "L'équation n'admet pas de solution réelle\n",
      "Valeur de a : -2\n",
      "Valeur de b : 12\n",
      "Valeur de c : -18\n",
      "La valeur de Delta est 0\n",
      "Il y a une solution\n",
      "La solution de l'équation est 3.0\n",
      "Valeur de a : 1\n",
      "Valeur de b : -5\n",
      "Valeur de c : 6\n",
      "La valeur de Delta est 1\n",
      "Il y a deux solutions\n",
      "Les solutions de l'équation sont 3.0 et 2.0\n",
      "Valeur de a : 9\n",
      "Valeur de b : 0\n",
      "Valeur de c : -25\n",
      "La valeur de Delta est 900\n",
      "Il y a deux solutions\n",
      "Les solutions de l'équation sont 1.6666666666666667 et -1.6666666666666667\n"
     ]
    }
   ],
   "source": [
    "dm02(1,1,1)\n",
    "dm02(-2,12,-18)\n",
    "dm02(1,-5,6)\n",
    "dm02(9,0,-25)"
   ]
  },
  {
   "cell_type": "code",
   "execution_count": null,
   "metadata": {},
   "outputs": [],
   "source": []
  }
 ],
 "metadata": {
  "kernelspec": {
   "display_name": "Python 3",
   "language": "python",
   "name": "python3"
  },
  "language_info": {
   "codemirror_mode": {
    "name": "ipython",
    "version": 3
   },
   "file_extension": ".py",
   "mimetype": "text/x-python",
   "name": "python",
   "nbconvert_exporter": "python",
   "pygments_lexer": "ipython3",
   "version": "3.9.1"
  }
 },
 "nbformat": 4,
 "nbformat_minor": 4
}
