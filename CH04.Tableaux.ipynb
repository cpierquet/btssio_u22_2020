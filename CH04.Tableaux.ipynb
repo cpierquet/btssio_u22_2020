{
 "cells": [
  {
   "cell_type": "markdown",
   "metadata": {},
   "source": [
    "# **Chapitre 04 - Les tableaux**"
   ]
  },
  {
   "cell_type": "markdown",
   "metadata": {},
   "source": [
    "## **Deux exemples pour comprendre**"
   ]
  },
  {
   "cell_type": "code",
   "execution_count": 1,
   "metadata": {},
   "outputs": [
    {
     "name": "stdout",
     "output_type": "stream",
     "text": [
      "Mercredi\n",
      "15\n"
     ]
    }
   ],
   "source": [
    "Nom_Jour = [\"Lundi\",\"Mardi\",\"Mercredi\",\"Jeudi\",\"Vendredi\",\"Samedi\",\"Dimanche\"]\n",
    "print(Nom_Jour[2])\n",
    "\n",
    "#Pour les notes, on en va pas en rentrer 31 séries...\n",
    "Notes = [[19, 3, 7, 13, 17], [15, 5, 15, 20, 20], [7, 4, 7, 2, 4], [5, 12, 1, 7, 7], [3, 20, 1, 18, 0], [13, 19, 15, 17, 18], [20, 0, 3, 7, 6], [19, 5, 6, 2, 7], [11, 14, 0, 10, 1], [3, 10, 15, 20, 4]]\n",
    "print(Notes[5][2])"
   ]
  },
  {
   "cell_type": "markdown",
   "metadata": {},
   "source": [
    "## **Tableaux à une dimension**"
   ]
  },
  {
   "cell_type": "code",
   "execution_count": 2,
   "metadata": {},
   "outputs": [
    {
     "name": "stdout",
     "output_type": "stream",
     "text": [
      "Contenu de la case n°0 ? \n"
     ]
    },
    {
     "name": "stdin",
     "output_type": "stream",
     "text": [
      " 1\n"
     ]
    },
    {
     "name": "stdout",
     "output_type": "stream",
     "text": [
      "Contenu de la case n°1 ? \n"
     ]
    },
    {
     "name": "stdin",
     "output_type": "stream",
     "text": [
      " 2\n"
     ]
    },
    {
     "name": "stdout",
     "output_type": "stream",
     "text": [
      "Contenu de la case n°2 ? \n"
     ]
    },
    {
     "name": "stdin",
     "output_type": "stream",
     "text": [
      " 3\n"
     ]
    },
    {
     "name": "stdout",
     "output_type": "stream",
     "text": [
      "Contenu de la case n°3 ? \n"
     ]
    },
    {
     "name": "stdin",
     "output_type": "stream",
     "text": [
      " 4\n"
     ]
    },
    {
     "name": "stdout",
     "output_type": "stream",
     "text": [
      "Contenu de la case n°4 ? \n"
     ]
    },
    {
     "name": "stdin",
     "output_type": "stream",
     "text": [
      " 5\n"
     ]
    },
    {
     "name": "stdout",
     "output_type": "stream",
     "text": [
      "Contenu de la case n°5 ? \n"
     ]
    },
    {
     "name": "stdin",
     "output_type": "stream",
     "text": [
      " 6\n"
     ]
    },
    {
     "name": "stdout",
     "output_type": "stream",
     "text": [
      "Contenu de la case n°6 ? \n"
     ]
    },
    {
     "name": "stdin",
     "output_type": "stream",
     "text": [
      " 7\n"
     ]
    },
    {
     "name": "stdout",
     "output_type": "stream",
     "text": [
      "[1, 2, 5, 6, 7, 1, 2, 3]\n",
      "['1', '2', '3', '4', '5', '6', '7']\n",
      "[24, 46, 90, 35, 6, 52, 45, 86, 81, 29, 9, 11, 80, 23, 97]\n"
     ]
    }
   ],
   "source": [
    "# Génération d'un tableau\n",
    "\n",
    "# Méthode directe\n",
    "Liste1 = [1,2,5,6,7,1,2,3]\n",
    "\n",
    "# Méthode par ajout manuel\n",
    "Liste2 = [\"\" for i in range(0,7)] #7 cases \"vides\"\n",
    "for i in range(0,7):\n",
    "    print(f\"Contenu de la case n°{i} ? \")\n",
    "    Liste2[i] = input(\"\") # les éléments seront des chaînes, à adapter !\n",
    "\n",
    "# Méthode par compréhension \n",
    "from random import *\n",
    "Liste3 = [randint(1,100) for i in range(0,15)]\n",
    "\n",
    "print(Liste1)\n",
    "print(Liste2)\n",
    "print(Liste3)"
   ]
  },
  {
   "cell_type": "code",
   "execution_count": 3,
   "metadata": {},
   "outputs": [
    {
     "name": "stdout",
     "output_type": "stream",
     "text": [
      "8\n",
      "7\n",
      "15\n",
      "[2, 5, 4, 8]\n",
      "[2, 5, 4, 8]\n"
     ]
    }
   ],
   "source": [
    "# Nombre d'éléments et extension\n",
    "\n",
    "print(len(Liste1))\n",
    "print(len(Liste2))\n",
    "print(len(Liste3))\n",
    "\n",
    "Machin = [2,5,4]\n",
    "Machin.append(8)\n",
    "print(Machin)\n",
    "\n",
    "Machin = [2,5,4]\n",
    "Machin = Machin + [8]\n",
    "print(Machin)"
   ]
  },
  {
   "cell_type": "code",
   "execution_count": 4,
   "metadata": {},
   "outputs": [
    {
     "name": "stdout",
     "output_type": "stream",
     "text": [
      "[1, 2, 5, 6, 7, 1, 2, 3]\n",
      "1\n",
      "2\n",
      "5\n",
      "6\n",
      "7\n",
      "1\n",
      "2\n",
      "3\n"
     ]
    }
   ],
   "source": [
    "# Affichage des éléments\n",
    "print(Liste1)\n",
    "for i in range(0,len(Liste1)):\n",
    "    print(Liste1[i])"
   ]
  },
  {
   "cell_type": "code",
   "execution_count": 5,
   "metadata": {},
   "outputs": [
    {
     "name": "stdout",
     "output_type": "stream",
     "text": [
      "[24, 46, 90, 35, 6, 52, 45, 86, 81, 29, 9, 11, 80, 23, 97]\n"
     ]
    },
    {
     "name": "stdin",
     "output_type": "stream",
     "text": [
      "Valeur à rechercher :  35\n"
     ]
    },
    {
     "name": "stdout",
     "output_type": "stream",
     "text": [
      "La valeur 35 se trouve en indice (python) n°3\n"
     ]
    }
   ],
   "source": [
    "# Recherche d'un élément\n",
    "\n",
    "# Liste3 contient des entiers\n",
    "print(Liste3)\n",
    "n = len(Liste3)\n",
    "val = int(input(\"Valeur à rechercher : \"))\n",
    "trouve = 0\n",
    "for i in range(0,n) :\n",
    "    if Liste3[i] == val :\n",
    "        print(f\"La valeur {val} se trouve en indice (python) n°{i}\")\n",
    "        trouve = 1\n",
    "\n",
    "if trouve == 0:\n",
    "    print(f\"La valeur {val} n'est pas dans la liste...\")"
   ]
  },
  {
   "cell_type": "code",
   "execution_count": 6,
   "metadata": {},
   "outputs": [
    {
     "name": "stdout",
     "output_type": "stream",
     "text": [
      "[24, 46, 90, 35, 6, 52, 45, 86, 81, 29, 9, 11, 80, 23, 97]\n"
     ]
    },
    {
     "name": "stdin",
     "output_type": "stream",
     "text": [
      "Valeur à rechercher : 45\n"
     ]
    },
    {
     "name": "stdout",
     "output_type": "stream",
     "text": [
      "True\n",
      "6\n"
     ]
    }
   ],
   "source": [
    "# Recherche d'un élément v2\n",
    "\n",
    "# On utilise les techniques (méthodes) spécifiques à Python\n",
    "print(Liste3)\n",
    "val = int(input(\"Valeur à rechercher :\"))\n",
    "print(val in Liste3) # dans la liste ?\n",
    "print(Liste3.index(val)) # en quelle position (la première) ?"
   ]
  },
  {
   "cell_type": "code",
   "execution_count": 7,
   "metadata": {},
   "outputs": [
    {
     "name": "stdout",
     "output_type": "stream",
     "text": [
      "[11, 98, 66, 57, 67, 90, 43, 79, 46, 46, 41, 30, 24, 65, 19]\n"
     ]
    },
    {
     "name": "stdin",
     "output_type": "stream",
     "text": [
      "Valeur à rechercher :  43\n"
     ]
    },
    {
     "name": "stdout",
     "output_type": "stream",
     "text": [
      "La valeur 43 apparaît 3 fois\n",
      "3\n"
     ]
    }
   ],
   "source": [
    "# Nombre d'occurence d'une valeur \n",
    "\n",
    "# Liste4 contient 250 entiers enre 1 et 100\n",
    "Liste4 = [randint(1,100) for i in range(0,250)]\n",
    "print(Liste4[:15]) #les 15 premiers éléments de Liste4\n",
    "n = len(Liste4)\n",
    "val = int(input(\"Valeur à rechercher : \"))\n",
    "\n",
    "nb = 0\n",
    "for i in range(0,n):\n",
    "    if Liste4[i] == val :\n",
    "        nb = nb+1\n",
    "\n",
    "print(f\"La valeur {val} apparaît {nb} fois\")\n",
    "\n",
    "# version méthode directe\n",
    "print(Liste4.count(val))"
   ]
  },
  {
   "cell_type": "code",
   "execution_count": 8,
   "metadata": {},
   "outputs": [
    {
     "name": "stdout",
     "output_type": "stream",
     "text": [
      "La valeur maximale est 96\n"
     ]
    }
   ],
   "source": [
    "# recherche du plus grand élément\n",
    "\n",
    "Liste5 = [randint(1,100) for i in range(0,25)]\n",
    "n = len(Liste5)\n",
    "maxi = Liste5[0]\n",
    "\n",
    "for i in range(1,n):\n",
    "    if Liste5[i] > maxi :\n",
    "        maxi = Liste5[i]\n",
    "\n",
    "print(f\"La valeur maximale est {maxi}\")"
   ]
  },
  {
   "cell_type": "code",
   "execution_count": 10,
   "metadata": {},
   "outputs": [
    {
     "name": "stdout",
     "output_type": "stream",
     "text": [
      "[23, 50, 68, 35, 13, 88, 19, 85, 80, 42, 68, 72, 39, 1, 3, 67, 83, 23, 37, 21, 88, 7, 3, 31, 6]\n",
      "88\n"
     ]
    }
   ],
   "source": [
    "# recherche du plus grand élément\n",
    "# version méthode directe\n",
    "\n",
    "Liste5 = [randint(1,100) for i in range(0,25)]\n",
    "print(Liste5)\n",
    "print(max(Liste5))"
   ]
  },
  {
   "cell_type": "code",
   "execution_count": 11,
   "metadata": {},
   "outputs": [
    {
     "name": "stdout",
     "output_type": "stream",
     "text": [
      "[42, 75, 17, 25, 30, 79, 30, 99, 11, 58, 71, 26, 75, 100, 9, 11, 62, 61, 63, 57, 35, 39, 77, 75, 64]\n",
      "La valeur mminimale est 9\n",
      "9\n"
     ]
    }
   ],
   "source": [
    "# Recherche du plus petit élément\n",
    "\n",
    "# Version \"normale\"\n",
    "Liste6 = [randint(1,100) for i in range(0,25)]\n",
    "print(Liste6)\n",
    "n = len(Liste6)\n",
    "mini = Liste6[0]\n",
    "\n",
    "for i in range(1,n):\n",
    "    if Liste6[i] < mini :\n",
    "        mini = Liste6[i]\n",
    "\n",
    "print(f\"La valeur mminimale est {mini}\")\n",
    "\n",
    "# Version \"méthode\"\n",
    "print(min(Liste6))"
   ]
  },
  {
   "cell_type": "markdown",
   "metadata": {},
   "source": [
    "## **Tableaux à deux dimensions**"
   ]
  },
  {
   "cell_type": "code",
   "execution_count": 12,
   "metadata": {},
   "outputs": [
    {
     "name": "stdout",
     "output_type": "stream",
     "text": [
      "Contenu de la case n°(0,0) ? \n"
     ]
    },
    {
     "name": "stdin",
     "output_type": "stream",
     "text": [
      " 5\n"
     ]
    },
    {
     "name": "stdout",
     "output_type": "stream",
     "text": [
      "Contenu de la case n°(0,1) ? \n"
     ]
    },
    {
     "name": "stdin",
     "output_type": "stream",
     "text": [
      " 6\n"
     ]
    },
    {
     "name": "stdout",
     "output_type": "stream",
     "text": [
      "Contenu de la case n°(0,2) ? \n"
     ]
    },
    {
     "name": "stdin",
     "output_type": "stream",
     "text": [
      " 4\n"
     ]
    },
    {
     "name": "stdout",
     "output_type": "stream",
     "text": [
      "Contenu de la case n°(0,3) ? \n"
     ]
    },
    {
     "name": "stdin",
     "output_type": "stream",
     "text": [
      " 2\n"
     ]
    },
    {
     "name": "stdout",
     "output_type": "stream",
     "text": [
      "Contenu de la case n°(1,0) ? \n"
     ]
    },
    {
     "name": "stdin",
     "output_type": "stream",
     "text": [
      " 0\n"
     ]
    },
    {
     "name": "stdout",
     "output_type": "stream",
     "text": [
      "Contenu de la case n°(1,1) ? \n"
     ]
    },
    {
     "name": "stdin",
     "output_type": "stream",
     "text": [
      " 4\n"
     ]
    },
    {
     "name": "stdout",
     "output_type": "stream",
     "text": [
      "Contenu de la case n°(1,2) ? \n"
     ]
    },
    {
     "name": "stdin",
     "output_type": "stream",
     "text": [
      " 5\n"
     ]
    },
    {
     "name": "stdout",
     "output_type": "stream",
     "text": [
      "Contenu de la case n°(1,3) ? \n"
     ]
    },
    {
     "name": "stdin",
     "output_type": "stream",
     "text": [
      " 6\n"
     ]
    },
    {
     "name": "stdout",
     "output_type": "stream",
     "text": [
      "[[3, 1, 6, 0], [5, 2, 4, 2]]\n",
      "[['5', '6', '4', '2'], ['0', '4', '5', '6']]\n",
      "[[0, 0, 0, 0], [0, 0, 0, 0]]\n",
      "[[14, 9, 3, 91], [62, 79, 29, 57]]\n"
     ]
    }
   ],
   "source": [
    "# Génération d'un tableau\n",
    "\n",
    "# Méthode directe\n",
    "ListeA = [[3,1,6,0],[5,2,4,2]]\n",
    "\n",
    "# Méthode par ajout manuel\n",
    "ListeB = [[0,0,0,0],[0,0,0,0]]\n",
    "for i in range(0,2):\n",
    "    for j in range(0,4):\n",
    "        print(f\"Contenu de la case n°({i},{j}) ? \")\n",
    "        ListeB[i][j] = input(\"\") # les éléments seront des chaînes, à adapter !\n",
    "\n",
    "# Méthode par compréhension (2 lignes et 4 colonnes) pour ListeC et ListeD\n",
    "ListeC = [[0 for j in range(0,4)] for i in range(0,2)]\n",
    "\n",
    "from random import *\n",
    "ListeD = [[randint(1,100) for j in range(0,4)] for i in range(0,2)]\n",
    "\n",
    "print(ListeA)\n",
    "print(ListeB)\n",
    "print(ListeC)\n",
    "print(ListeD)"
   ]
  },
  {
   "cell_type": "code",
   "execution_count": 17,
   "metadata": {},
   "outputs": [
    {
     "name": "stdout",
     "output_type": "stream",
     "text": [
      "[[14, 9, 3, 91], [62, 79, 29, 57]]\n",
      "------------------------------\n",
      "Affichage de tous les éléments\n",
      "14\n",
      "9\n",
      "3\n",
      "91\n",
      "62\n",
      "79\n",
      "29\n",
      "57\n",
      "------------------------------\n",
      "Affichage comme une matrice\n",
      "[14, 9, 3, 91]\n",
      "[62, 79, 29, 57]\n",
      "------------------------------\n",
      "Affichage de la ligne n°2 (L1 en python)\n",
      "[62, 79, 29, 57]\n",
      "------------------------------\n",
      "Affichage de la colonne n°3 (C2 en python)\n",
      "3\n",
      "29\n"
     ]
    }
   ],
   "source": [
    "# Affichage des éléments\n",
    "\n",
    "# on récupère les dimensions de la liste (rectangulaire)\n",
    "print(ListeD)\n",
    "lig = len(ListeD)\n",
    "col = len(ListeD[0])\n",
    "print(\"------------------------------\")\n",
    "\n",
    "# Affichage de tous les éléments\n",
    "print(\"Affichage de tous les éléments\")\n",
    "for i in range(0,lig):\n",
    "    for j in range(0,col):\n",
    "        print(ListeD[i][j])\n",
    "print(\"------------------------------\")\n",
    "\n",
    "# Affichage comme une matrice\n",
    "print(\"Affichage comme une matrice\")\n",
    "for i in range(0,lig):\n",
    "    print(ListeD[i])\n",
    "print(\"------------------------------\")\n",
    "\n",
    "# Affichage de la deuxième ligne\n",
    "print(\"Affichage de la ligne n°2 (L1 en python)\")\n",
    "print(ListeD[1])\n",
    "print(\"------------------------------\")\n",
    "\n",
    "# Affichage de la troisième colonne\n",
    "print(\"Affichage de la colonne n°3 (C2 en python)\")\n",
    "for i in range(0,lig):\n",
    "    print(ListeD[i][2])"
   ]
  },
  {
   "cell_type": "code",
   "execution_count": 21,
   "metadata": {},
   "outputs": [
    {
     "name": "stdout",
     "output_type": "stream",
     "text": [
      "[[], [], [], [], [], [], [], [], [], []]\n",
      "[[0, 0, 0, 0, 0], [0, 0, 0, 0, 0], [0, 0, 0, 0, 0], [0, 0, 0, 0, 0], [0, 0, 0, 0, 0], [0, 0, 0, 0, 0], [0, 0, 0, 0, 0], [0, 0, 0, 0, 0], [0, 0, 0, 0, 0], [0, 0, 0, 0, 0]]\n"
     ]
    }
   ],
   "source": [
    "# Création de tableaux (vides ou non)\n",
    "\n",
    "#10 lignes vides \n",
    "T1 = [[] for i in range(0,10)]\n",
    "print(T1)\n",
    "\n",
    "#10 lignes de 5 colonnes\n",
    "T2 = [[0 for i in range(0,5)] for i in range(0,10)]\n",
    "print(T2)"
   ]
  },
  {
   "cell_type": "code",
   "execution_count": 18,
   "metadata": {},
   "outputs": [
    {
     "name": "stdout",
     "output_type": "stream",
     "text": [
      "[[21, 84, 17, 81, 38, 53, 49, 18, 50, 24], [9, 89, 84, 52, 77, 18, 6, 29, 22, 50], [6, 58, 90, 48, 41, 77, 38, 71, 66, 38], [47, 37, 22, 2, 30, 32, 43, 91, 14, 93], [2, 89, 20, 41, 54, 15, 44, 39, 33, 40]]\n"
     ]
    },
    {
     "name": "stdin",
     "output_type": "stream",
     "text": [
      "Valeur à rechercher :  20\n"
     ]
    },
    {
     "name": "stdout",
     "output_type": "stream",
     "text": [
      "La valeur 20 se trouve en indice (python) n°(4,2)\n",
      "La valeur 20 se trouve en position L5 et C3\n",
      "20 est-elle dans la liste ? => True\n"
     ]
    }
   ],
   "source": [
    "# Recherche d'un élément \n",
    "\n",
    "#5 lignes et 10 colonnes\n",
    "Tabl = [[randint(1,100) for j in range(0,10)] for i in range(0,5)] # contient des entiers\n",
    "lig = len(Tabl)\n",
    "col = len(Tabl[0])\n",
    "print(Tabl)\n",
    "\n",
    "# Version normale\n",
    "val = int(input(\"Valeur à rechercher : \"))\n",
    "trouve = 0\n",
    "\n",
    "for i in range(0,lig):\n",
    "    for j in range(0,col):\n",
    "        if Tabl[i][j] == val :\n",
    "            print(f\"La valeur {val} se trouve en indice (python) n°({i},{j})\")\n",
    "            print(f\"La valeur {val} se trouve en position L{i+1} et C{j+1}\")\n",
    "        trouve = 1\n",
    "\n",
    "if trouve == 0 :\n",
    "    print(f\"La valeur {val} n'est pas dans la liste...\")\n",
    "\n",
    "# version méthode (on peut tester par ligne + calcul booléen ;-))\n",
    "presence = False\n",
    "for i in range(0,lig):\n",
    "    presence = presence or (val in Tabl[i]) #un peu de calcul booléen !\n",
    "print(f\"{val} est-elle dans la liste ? => {presence}\")"
   ]
  },
  {
   "cell_type": "code",
   "execution_count": 19,
   "metadata": {},
   "outputs": [
    {
     "name": "stdout",
     "output_type": "stream",
     "text": [
      "[84, 19, 19, 44, 80, 67, 51, 4, 39, 45]\n",
      "[53, 94, 42, 94, 93, 15, 16, 65, 78, 87]\n",
      "[83, 12, 99, 24, 69, 26, 39, 79, 63, 22]\n",
      "[97, 14, 45, 37, 48, 41, 71, 88, 29, 53]\n",
      "[94, 66, 100, 19, 11, 43, 38, 68, 68, 76]\n"
     ]
    },
    {
     "name": "stdin",
     "output_type": "stream",
     "text": [
      "Valeur à rechercher :  71\n"
     ]
    },
    {
     "name": "stdout",
     "output_type": "stream",
     "text": [
      "La valeur 71 est présente 1 fois dans le tableau\n",
      "71 est présente 1 fois dans le tableau\n"
     ]
    }
   ],
   "source": [
    "# Nombre d'occurence d'une valeur \n",
    "\n",
    "#5 lignes et 10 colonnes\n",
    "Tabl = [[randint(1,100) for j in range(0,10)] for i in range(0,5)] # contient des entiers\n",
    "lig = len(Tabl)\n",
    "col = len(Tabl[0])\n",
    "\n",
    "for i in range(lig):\n",
    "    print(Tabl[i])\n",
    "\n",
    "# Version normale\n",
    "val = int(input(\"Valeur à rechercher : \"))\n",
    "nb = 0\n",
    "\n",
    "for i in range(0,lig):\n",
    "    for j in range(0,col):\n",
    "        if Tabl[i][j] == val :\n",
    "            nb = nb + 1\n",
    "\n",
    "print(f\"La valeur {val} est présente {nb} fois dans le tableau\")\n",
    "\n",
    "# version méthode (on doit tester, et cumuler, ligne par ligne)\n",
    "nb2 = 0\n",
    "for i in range(0,lig):\n",
    "    nb2 = nb2 + Tabl[i].count(val)\n",
    "print(f\"La valeur {val} est présente {nb2} fois dans le tableau\")"
   ]
  },
  {
   "cell_type": "markdown",
   "metadata": {},
   "source": [
    "## **Exemples rédigés**"
   ]
  },
  {
   "cell_type": "code",
   "execution_count": 21,
   "metadata": {},
   "outputs": [
    {
     "name": "stdout",
     "output_type": "stream",
     "text": [
      "L'entrée d'une valeur négative ou supérieure à 20 arrête la saisie !\n"
     ]
    },
    {
     "name": "stdin",
     "output_type": "stream",
     "text": [
      "Saisir une note :  10\n",
      "Saisir une note :  15\n",
      "Saisir une note :  8\n",
      "Saisir une note :  9\n",
      "Saisir une note :  7\n",
      "Saisir une note :  14\n",
      "Saisir une note :  16\n",
      "Saisir une note :  12\n",
      "Saisir une note :  -1\n"
     ]
    },
    {
     "name": "stdout",
     "output_type": "stream",
     "text": [
      "Version classique !\n",
      "Nombre de notes : 8\n",
      "Notes  : [10, 15, 8, 9, 7, 14, 16, 12]\n",
      "Moyenne : 11.4\n",
      "Note minimale : 7\n",
      "Note maximale : 16\n",
      "Version méthode !\n",
      "Notes : [10, 15, 8, 9, 7, 14, 16, 12]\n",
      "Moyenne : 11.4\n",
      "Note minimale : 7\n",
      "Note maximale : 16\n"
     ]
    }
   ],
   "source": [
    "# Analyse d'une série de notes\n",
    "\n",
    "notes = []\n",
    "fini = False\n",
    "print(\"L'entrée d'une valeur négative ou supérieure à 20 arrête la saisie !\")\n",
    "\n",
    "while (fini == False) :\n",
    "    note = int(input(\"Saisir une note : \"))\n",
    "    fini = ((note < 0) or (note > 20))\n",
    "    if (fini == False) :\n",
    "        notes.append(note)\n",
    "\n",
    "print(\"Version classique !\")\n",
    "nombre = len(notes)\n",
    "if nombre > 0 :\n",
    "    som = notes[0]\n",
    "    maxi = notes[0]\n",
    "    mini = notes[0]\n",
    "    for i in range(1,nombre):\n",
    "        som = som + notes[i]\n",
    "        if notes[i] > maxi :\n",
    "            maxi = notes[i]\n",
    "        else :\n",
    "            if notes[i] < mini :\n",
    "                mini = notes[i]\n",
    "\n",
    "print(f\"Nombre de notes : {nombre}\")\n",
    "if nombre > 0 :\n",
    "    print(f\"Notes  : {notes}\")\n",
    "    print(f\"Moyenne : {som/nombre:.1f}\")\n",
    "    print(f\"Note minimale : {mini}\")\n",
    "    print(f\"Note maximale : {maxi}\")\n",
    "else : \n",
    "    print(\"Il faudrait saisir au-moins une note...\")\n",
    "\n",
    "# version méthode\n",
    "print(\"Version méthode !\")\n",
    "if nombre > 0 :\n",
    "    print(f\"Notes : {notes}\")\n",
    "    print(f\"Moyenne : {(sum(notes)/len(notes)):.1f}\")\n",
    "    print(f\"Note minimale : {min(notes)}\")\n",
    "    print(f\"Note maximale : {max(notes)}\")\n",
    "else : \n",
    "    print(\"Il faudrait saisir au-moins une note...\")"
   ]
  },
  {
   "cell_type": "code",
   "execution_count": null,
   "metadata": {},
   "outputs": [],
   "source": []
  }
 ],
 "metadata": {
  "kernelspec": {
   "display_name": "Python 3",
   "language": "python",
   "name": "python3"
  },
  "language_info": {
   "codemirror_mode": {
    "name": "ipython",
    "version": 3
   },
   "file_extension": ".py",
   "mimetype": "text/x-python",
   "name": "python",
   "nbconvert_exporter": "python",
   "pygments_lexer": "ipython3",
   "version": "3.9.1"
  }
 },
 "nbformat": 4,
 "nbformat_minor": 4
}
