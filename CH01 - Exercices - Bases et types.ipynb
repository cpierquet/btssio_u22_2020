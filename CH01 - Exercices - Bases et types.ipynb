{
 "cells": [
  {
   "cell_type": "markdown",
   "metadata": {},
   "source": [
    "# INSTRUCTIONS DE BASE ET TYPES - EXERCICES"
   ]
  },
  {
   "cell_type": "markdown",
   "metadata": {
    "colab_type": "text",
    "id": "T0EwK64U8lqp"
   },
   "source": [
    "## **Exercice 1**"
   ]
  },
  {
   "cell_type": "code",
   "execution_count": null,
   "metadata": {
    "colab": {
     "base_uri": "https://localhost:8080/",
     "height": 34
    },
    "colab_type": "code",
    "executionInfo": {
     "elapsed": 475,
     "status": "ok",
     "timestamp": 1536830631558,
     "user": {
      "displayName": "Cédric Pierquet",
      "photoUrl": "//lh6.googleusercontent.com/-FyWP9MTi3U0/AAAAAAAAAAI/AAAAAAAAAJE/B7gygTSuPN8/s50-c-k-no/photo.jpg",
      "userId": "115561417038584296436"
     },
     "user_tz": -120
    },
    "id": "p8VAD0jr8TZP",
    "outputId": "cc610475-2374-4860-8de8-dd85f2d0bd7f"
   },
   "outputs": [],
   "source": [
    "A=1\n",
    "B=A+1\n",
    "A=B+2\n",
    "B=A+2\n",
    "A=B+3\n",
    "B=A+3\n",
    "print(A,B)"
   ]
  },
  {
   "cell_type": "code",
   "execution_count": null,
   "metadata": {
    "colab": {
     "base_uri": "https://localhost:8080/",
     "height": 34
    },
    "colab_type": "code",
    "executionInfo": {
     "elapsed": 547,
     "status": "ok",
     "timestamp": 1536830632251,
     "user": {
      "displayName": "Cédric Pierquet",
      "photoUrl": "//lh6.googleusercontent.com/-FyWP9MTi3U0/AAAAAAAAAAI/AAAAAAAAAJE/B7gygTSuPN8/s50-c-k-no/photo.jpg",
      "userId": "115561417038584296436"
     },
     "user_tz": -120
    },
    "id": "NGBx8lVa8vd8",
    "outputId": "514a83cc-7d3b-4af9-a8a2-c4d3d30cb4ad"
   },
   "outputs": [],
   "source": [
    "A=5\n",
    "B=3\n",
    "C=A+B\n",
    "A=2\n",
    "C=B-A\n",
    "print(A,B)"
   ]
  },
  {
   "cell_type": "code",
   "execution_count": null,
   "metadata": {
    "colab": {
     "base_uri": "https://localhost:8080/",
     "height": 34
    },
    "colab_type": "code",
    "executionInfo": {
     "elapsed": 596,
     "status": "ok",
     "timestamp": 1536830632969,
     "user": {
      "displayName": "Cédric Pierquet",
      "photoUrl": "//lh6.googleusercontent.com/-FyWP9MTi3U0/AAAAAAAAAAI/AAAAAAAAAJE/B7gygTSuPN8/s50-c-k-no/photo.jpg",
      "userId": "115561417038584296436"
     },
     "user_tz": -120
    },
    "id": "Ehxvd79l88-H",
    "outputId": "58d96050-4b55-4171-e69d-a7e2e07cb104"
   },
   "outputs": [],
   "source": [
    "A=3\n",
    "B=10\n",
    "A=A+B\n",
    "C=A+B\n",
    "B=C*2\n",
    "print(A,B,C)"
   ]
  },
  {
   "cell_type": "markdown",
   "metadata": {
    "colab_type": "text",
    "id": "TqiOIMi39exE"
   },
   "source": [
    "## **Exercice 3**"
   ]
  },
  {
   "cell_type": "code",
   "execution_count": null,
   "metadata": {
    "colab": {
     "base_uri": "https://localhost:8080/",
     "height": 102
    },
    "colab_type": "code",
    "executionInfo": {
     "elapsed": 578,
     "status": "ok",
     "timestamp": 1536830634361,
     "user": {
      "displayName": "Cédric Pierquet",
      "photoUrl": "//lh6.googleusercontent.com/-FyWP9MTi3U0/AAAAAAAAAAI/AAAAAAAAAJE/B7gygTSuPN8/s50-c-k-no/photo.jpg",
      "userId": "115561417038584296436"
     },
     "user_tz": -120
    },
    "id": "dWFdw4lv9lQo",
    "outputId": "102c026d-46d5-4fe6-8cb0-96f28037d939"
   },
   "outputs": [],
   "source": [
    "A=5\n",
    "B=2\n",
    "A=B\n",
    "B=A\n",
    "print(A,B)\n",
    "\n",
    "A=5\n",
    "B=2\n",
    "B=A\n",
    "A=B\n",
    "print(A,B)\n",
    "\n",
    "A=5\n",
    "B=2\n",
    "C=A\n",
    "A=B\n",
    "B=C\n",
    "print(A,B)\n",
    "\n",
    "A=5\n",
    "B=2\n",
    "A,B=B,A #manière optimale d'échanger des variables (affectation simultanée !!!)\n",
    "print(A,B)"
   ]
  },
  {
   "cell_type": "markdown",
   "metadata": {
    "colab_type": "text",
    "id": "BHoPCykW-YJo"
   },
   "source": [
    "## **Exercice 4**"
   ]
  },
  {
   "cell_type": "code",
   "execution_count": null,
   "metadata": {
    "colab": {
     "base_uri": "https://localhost:8080/",
     "height": 68
    },
    "colab_type": "code",
    "executionInfo": {
     "elapsed": 6471,
     "status": "ok",
     "timestamp": 1536830731045,
     "user": {
      "displayName": "Cédric Pierquet",
      "photoUrl": "//lh6.googleusercontent.com/-FyWP9MTi3U0/AAAAAAAAAAI/AAAAAAAAAJE/B7gygTSuPN8/s50-c-k-no/photo.jpg",
      "userId": "115561417038584296436"
     },
     "user_tz": -120
    },
    "id": "iiT9dzAz_IeY",
    "outputId": "8237a7a0-1759-4c98-c5e5-9cba8ee1f5cf"
   },
   "outputs": [],
   "source": [
    "prenom = input(\"Quel est ton nom ? \")\n",
    "age = int(input(\"Quel est ton âge ? \"))\n",
    "print(\"Bonjour\",prenom,\", tu as\",age,\"ans\")\n",
    "# ou \n",
    "print(f\"Bonjour {prenom}, tu as {age} ans\")\n",
    "\n",
    "print(\"------------------------------------\")\n",
    "\n",
    "A=float(input(\"A=\"))\n",
    "B=float(input(\"B=\"))\n",
    "C=float(input(\"C=\"))\n",
    "print(f\"La moyenne de A, de B et de C vaut {(A+B+C)/3:.2f}\") #on peut arrondir dans le print(f) !\n",
    "# ou\n",
    "print(\"La moyenne de A, de B et de C vaut :\",(A+B+C)/3)\n",
    "\n",
    "print(\"------------------------------------\")\n",
    "\n",
    "longueur = float(input(\"Longueur du rectangle : \"))\n",
    "largeur = float(input(\"Largeur du rectangle : \"))\n",
    "print(f\"L'aire du rectangle vaut {largeur*longueur}\")\n",
    "print(\"L'aire du rectangle vaut :\",largeur*longueur)"
   ]
  },
  {
   "cell_type": "markdown",
   "metadata": {
    "colab_type": "text",
    "id": "cA8QCyofAx94"
   },
   "source": [
    "## **Exercice 5**"
   ]
  },
  {
   "cell_type": "code",
   "execution_count": null,
   "metadata": {
    "colab": {
     "base_uri": "https://localhost:8080/",
     "height": 153
    },
    "colab_type": "code",
    "executionInfo": {
     "elapsed": 5210,
     "status": "ok",
     "timestamp": 1536903571911,
     "user": {
      "displayName": "Cédric Pierquet",
      "photoUrl": "//lh6.googleusercontent.com/-FyWP9MTi3U0/AAAAAAAAAAI/AAAAAAAAAJE/B7gygTSuPN8/s50-c-k-no/photo.jpg",
      "userId": "115561417038584296436"
     },
     "user_tz": -120
    },
    "id": "CC94_SqXAxss",
    "outputId": "52242e50-6170-479f-85ce-dc26da2d36fe"
   },
   "outputs": [],
   "source": [
    "somme = int(input(\"Saisir une somme en centimes : \"))\n",
    "cinquante = somme // 50 #nombre de pièces de 50 centimes\n",
    "reste = somme % 50 #somme restante\n",
    "vingt = reste // 20 #nombre de pièces de 20 centimes\n",
    "reste = reste % 20 #somme restante\n",
    "dix = reste // 10 #...\n",
    "reste = reste % 10\n",
    "cinq = reste // 5\n",
    "reste = reste % 5\n",
    "deux = reste // 2\n",
    "reste = reste % 2\n",
    "un = reste\n",
    "print(\"Pour\",somme,\"centimes d'euros, il faut :\")\n",
    "print(cinquante,\"pièce(s) de 50 centimes\")\n",
    "print(vingt,\"pièce(s) de 20 centimes\")\n",
    "print(dix,\"pièce(s) de 10 centimes\")\n",
    "print(cinq,\"pièce(s) de 5 centimes\")\n",
    "print(deux,\"pièce(s) de 2 centimes\")\n",
    "print(un,\"pièce(s) de 1 centime\")"
   ]
  },
  {
   "cell_type": "markdown",
   "metadata": {
    "colab_type": "text",
    "id": "EmZ1Rc4GCfgv"
   },
   "source": [
    "## **Exercice 6**"
   ]
  },
  {
   "cell_type": "code",
   "execution_count": null,
   "metadata": {
    "colab": {
     "base_uri": "https://localhost:8080/",
     "height": 85
    },
    "colab_type": "code",
    "executionInfo": {
     "elapsed": 9852,
     "status": "ok",
     "timestamp": 1536830760497,
     "user": {
      "displayName": "Cédric Pierquet",
      "photoUrl": "//lh6.googleusercontent.com/-FyWP9MTi3U0/AAAAAAAAAAI/AAAAAAAAAJE/B7gygTSuPN8/s50-c-k-no/photo.jpg",
      "userId": "115561417038584296436"
     },
     "user_tz": -120
    },
    "id": "91Z2vQ9vChrt",
    "outputId": "eec777f5-0cdd-4894-a7cf-deca9d171047"
   },
   "outputs": [],
   "source": [
    "prix_ht = float(input(\"Donner un prix HT : \"))\n",
    "nb = int(input(\"Donner un nombre d'articles : \"))\n",
    "taux_tva = float(input(\"Donner le taux de TVA, sans le % : \"))\n",
    "prix_ttc=nb*prix_ht*(1+taux_tva/100)\n",
    "print(f\"Le prix total TTC est de : {prix_ttc}€\")"
   ]
  },
  {
   "cell_type": "code",
   "execution_count": null,
   "metadata": {},
   "outputs": [],
   "source": []
  }
 ],
 "metadata": {
  "colab": {
   "collapsed_sections": [],
   "name": "U22 - Bases et types.ipynb",
   "provenance": [],
   "version": "0.3.2"
  },
  "kernelspec": {
   "display_name": "Python 3",
   "language": "python",
   "name": "python3"
  },
  "language_info": {
   "codemirror_mode": {
    "name": "ipython",
    "version": 3
   },
   "file_extension": ".py",
   "mimetype": "text/x-python",
   "name": "python",
   "nbconvert_exporter": "python",
   "pygments_lexer": "ipython3",
   "version": "3.8.5"
  }
 },
 "nbformat": 4,
 "nbformat_minor": 4
}
