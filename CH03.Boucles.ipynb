{
 "cells": [
  {
   "cell_type": "markdown",
   "metadata": {},
   "source": [
    "## **CHAPITRE 3 - BOUCLES**"
   ]
  },
  {
   "cell_type": "markdown",
   "metadata": {},
   "source": [
    "Dans ce chapitre, on travaille sur une deuxième structure particulière : les *boucles*.\n",
    "\n",
    "Comme toute structure, python la gère sous forme d'un *bloc*, dans lequel les instructions sont décalées par rapport à la structure, on parle d'**indentation**.\n",
    "\n",
    "En python, il n'est pas utile de fermer les blocs, c'est l'indentation qui va permettre à python de comprendre où commence et où s'arrête le bloc !\n",
    "\n",
    "À noter également que pour déclarer à python qu'un bloc va commencer, il ne faut pas oublier les \":\".\n",
    "Dans les éditeurs actuels, le fait de bien mettre les \":\" va créer automatiquement l'indentation lors du passage à la ligne !"
   ]
  },
  {
   "cell_type": "code",
   "execution_count": 2,
   "metadata": {},
   "outputs": [
    {
     "name": "stdin",
     "output_type": "stream",
     "text": [
      "Saisir un nombre réel positif :  -5\n",
      "Saisir un nombre réel positif :  -10\n",
      "Saisir un nombre réel positif :  3\n"
     ]
    },
    {
     "name": "stdout",
     "output_type": "stream",
     "text": [
      "La racine carrée de 3.0 est 1.7320508075688772\n"
     ]
    }
   ],
   "source": [
    "# exemple 1 de l'introduction\n",
    "# racine carrée d'un réel avec contrôle de saisie\n",
    "from math import * # pour charger les commandes math\n",
    "\n",
    "Nb = float(input(\"Saisir un nombre réel positif : \"))\n",
    "while Nb < 0 :\n",
    "    Nb = float(input(\"Saisir un nombre réel positif : \"))\n",
    "print (f\"La racine carrée de {Nb} est {sqrt(Nb)}\")"
   ]
  },
  {
   "cell_type": "code",
   "execution_count": 4,
   "metadata": {},
   "outputs": [
    {
     "ename": "NameError",
     "evalue": "name 'n' is not defined",
     "output_type": "error",
     "traceback": [
      "\u001b[1;31m---------------------------------------------------------------------------\u001b[0m",
      "\u001b[1;31mNameError\u001b[0m                                 Traceback (most recent call last)",
      "\u001b[1;32m<ipython-input-4-d0041e7fb64b>\u001b[0m in \u001b[0;36m<module>\u001b[1;34m\u001b[0m\n\u001b[0;32m      1\u001b[0m \u001b[1;31m# Programme 1\u001b[0m\u001b[1;33m\u001b[0m\u001b[1;33m\u001b[0m\u001b[1;33m\u001b[0m\u001b[0m\n\u001b[1;32m----> 2\u001b[1;33m \u001b[1;32mwhile\u001b[0m \u001b[1;33m(\u001b[0m\u001b[0mn\u001b[0m\u001b[1;33m<\u001b[0m\u001b[1;36m7\u001b[0m\u001b[1;33m)\u001b[0m \u001b[1;33m:\u001b[0m\u001b[1;33m\u001b[0m\u001b[1;33m\u001b[0m\u001b[0m\n\u001b[0m\u001b[0;32m      3\u001b[0m     \u001b[0mn\u001b[0m\u001b[1;33m=\u001b[0m\u001b[0mn\u001b[0m\u001b[1;33m+\u001b[0m\u001b[1;36m1\u001b[0m\u001b[1;33m\u001b[0m\u001b[1;33m\u001b[0m\u001b[0m\n\u001b[0;32m      4\u001b[0m     \u001b[0mprint\u001b[0m \u001b[1;33m(\u001b[0m\u001b[0mn\u001b[0m\u001b[1;33m)\u001b[0m\u001b[1;33m\u001b[0m\u001b[1;33m\u001b[0m\u001b[0m\n",
      "\u001b[1;31mNameError\u001b[0m: name 'n' is not defined"
     ]
    }
   ],
   "source": [
    "# Programme 1\n",
    "while (n<7) :\n",
    "    n=n+1\n",
    "    print (n)"
   ]
  },
  {
   "cell_type": "markdown",
   "metadata": {},
   "source": [
    "Ce programme 1 génère une erreur car n n'est pas défini !"
   ]
  },
  {
   "cell_type": "code",
   "execution_count": 5,
   "metadata": {},
   "outputs": [],
   "source": [
    "# Programme 2\n",
    "n=0\n",
    "while (n>0) :\n",
    "    n=n+1\n",
    "    print (n)"
   ]
  },
  {
   "cell_type": "markdown",
   "metadata": {},
   "source": [
    "Ce programme 2 n'affiche rien car on ne rentre pas dans la boucle !"
   ]
  },
  {
   "cell_type": "markdown",
   "metadata": {},
   "source": [
    "Attention en exécutant le programme suivant, car il rentre dans une _boucle infinie_ du fait qu'il n'y a pas de condition de sortie !\n",
    "\n",
    "Au cas où, il faut _couper le noyau_ via **Kernel -- Shut Down Kernel** !!"
   ]
  },
  {
   "cell_type": "code",
   "execution_count": null,
   "metadata": {},
   "outputs": [],
   "source": [
    "# Programme 3\n",
    "n=0\n",
    "while (n>=0) :\n",
    "    n=n+1\n",
    "    print (n)"
   ]
  },
  {
   "cell_type": "code",
   "execution_count": 1,
   "metadata": {},
   "outputs": [
    {
     "name": "stdin",
     "output_type": "stream",
     "text": [
      "Saisir un réel :  17\n"
     ]
    },
    {
     "name": "stdout",
     "output_type": "stream",
     "text": [
      "-1.0\n"
     ]
    }
   ],
   "source": [
    "# exemple 2 de l'introduction\n",
    "Nb = float(input(\"Saisir un réel : \"))\n",
    "while Nb >= 0:\n",
    "    Nb = Nb - 2\n",
    "print(Nb)"
   ]
  },
  {
   "cell_type": "code",
   "execution_count": 2,
   "metadata": {},
   "outputs": [
    {
     "name": "stdin",
     "output_type": "stream",
     "text": [
      "Quelle est votre proposition ? 500\n"
     ]
    },
    {
     "name": "stdout",
     "output_type": "stream",
     "text": [
      "Trop grand, réessayez !\n"
     ]
    },
    {
     "name": "stdin",
     "output_type": "stream",
     "text": [
      "Quelle est votre proposition ? 250\n"
     ]
    },
    {
     "name": "stdout",
     "output_type": "stream",
     "text": [
      "Trop grand, réessayez !\n"
     ]
    },
    {
     "name": "stdin",
     "output_type": "stream",
     "text": [
      "Quelle est votre proposition ? 125\n"
     ]
    },
    {
     "name": "stdout",
     "output_type": "stream",
     "text": [
      "Trop grand, réessayez !\n"
     ]
    },
    {
     "name": "stdin",
     "output_type": "stream",
     "text": [
      "Quelle est votre proposition ? 62\n"
     ]
    },
    {
     "name": "stdout",
     "output_type": "stream",
     "text": [
      "Trop grand, réessayez !\n"
     ]
    },
    {
     "name": "stdin",
     "output_type": "stream",
     "text": [
      "Quelle est votre proposition ? 30\n"
     ]
    },
    {
     "name": "stdout",
     "output_type": "stream",
     "text": [
      "Trop grand, réessayez !\n"
     ]
    },
    {
     "name": "stdin",
     "output_type": "stream",
     "text": [
      "Quelle est votre proposition ? 15\n"
     ]
    },
    {
     "name": "stdout",
     "output_type": "stream",
     "text": [
      "Trop petit, rejouez !\n"
     ]
    },
    {
     "name": "stdin",
     "output_type": "stream",
     "text": [
      "Quelle est votre proposition ? 22\n"
     ]
    },
    {
     "name": "stdout",
     "output_type": "stream",
     "text": [
      "Gagné !\n"
     ]
    }
   ],
   "source": [
    "# Programme 3\n",
    "from random import *\n",
    "secret = randint(1,100)\n",
    "essai = 0\n",
    "while essai != secret :\n",
    "    essai=int(input(\"Quelle est votre proposition ?\"))\n",
    "    if essai > secret :\n",
    "        print(\"Trop grand, réessayez !\")\n",
    "    elif essai < secret :\n",
    "        print(\"Trop petit, rejouez !\")\n",
    "    else :\n",
    "        print(\"Gagné !\")"
   ]
  },
  {
   "cell_type": "code",
   "execution_count": 3,
   "metadata": {},
   "outputs": [
    {
     "name": "stdout",
     "output_type": "stream",
     "text": [
      "7*0=0\n",
      "7*1=7\n",
      "7*2=14\n",
      "7*3=21\n",
      "7*4=28\n",
      "7*5=35\n",
      "7*6=42\n",
      "7*7=49\n",
      "7*8=56\n",
      "7*9=63\n",
      "7*10=70\n",
      "7*11=77\n",
      "7*12=84\n"
     ]
    }
   ],
   "source": [
    "# Table de multiplication par 7 jusqu’à 12×7\n",
    "for i in range(0, 13) :\n",
    "    Res = 7*i\n",
    "    print(f\"7*{i}={Res}\")"
   ]
  },
  {
   "cell_type": "code",
   "execution_count": 6,
   "metadata": {},
   "outputs": [
    {
     "name": "stdin",
     "output_type": "stream",
     "text": [
      "Saisir une valeur de n>0 :  7\n"
     ]
    },
    {
     "name": "stdout",
     "output_type": "stream",
     "text": [
      "7!=5040\n"
     ]
    }
   ],
   "source": [
    "# calcul de factorielle n\n",
    "n = int(input(\"Saisir une valeur de n>0 : \"))\n",
    "fact = 1\n",
    "for i in range(1,n+1) :\n",
    "    fact = fact * i\n",
    "print(f\"{n}!={fact}\")"
   ]
  },
  {
   "cell_type": "code",
   "execution_count": 7,
   "metadata": {},
   "outputs": [
    {
     "name": "stdin",
     "output_type": "stream",
     "text": [
      "Entrer la largeur du rectangle :  15\n",
      "Entrer la longueur du rectangle :  7\n"
     ]
    },
    {
     "name": "stdout",
     "output_type": "stream",
     "text": [
      "Le périmètre du rectangle est 44.0\n"
     ]
    },
    {
     "name": "stdin",
     "output_type": "stream",
     "text": [
      "Voulez-vous continuer ?  o\n",
      "Entrer la largeur du rectangle :  10\n",
      "Entrer la longueur du rectangle :  1\n"
     ]
    },
    {
     "name": "stdout",
     "output_type": "stream",
     "text": [
      "Le périmètre du rectangle est 22.0\n"
     ]
    },
    {
     "name": "stdin",
     "output_type": "stream",
     "text": [
      "Voulez-vous continuer ?  n\n"
     ]
    }
   ],
   "source": [
    "# répétition d'algorithme\n",
    "choix = \"o\"\n",
    "while choix == \"o\" :\n",
    "    larg = float(input(\"Entrer la largeur du rectangle : \"))\n",
    "    long = float(input(\"Entrer la longueur du rectangle : \"))\n",
    "    perim = 2*(larg+long)\n",
    "    print(f\"Le périmètre du rectangle est {perim}\")\n",
    "    choix = input(\"Voulez-vous continuer ? \")"
   ]
  },
  {
   "cell_type": "code",
   "execution_count": 9,
   "metadata": {},
   "outputs": [
    {
     "name": "stdin",
     "output_type": "stream",
     "text": [
      "saisir une note :  7\n",
      "saisir la note suivante, ou <0 et >20 pour arrêter  9\n",
      "saisir la note suivante, ou <0 et >20 pour arrêter  10\n",
      "saisir la note suivante, ou <0 et >20 pour arrêter  -5\n"
     ]
    },
    {
     "name": "stdout",
     "output_type": "stream",
     "text": [
      "le nombre de notes est 3\n"
     ]
    }
   ],
   "source": [
    "# comptage\n",
    "compteur = 0\n",
    "note = int(input(\"saisir une note : \"))\n",
    "\n",
    "while note <=20 and note >=0 :\n",
    "    compteur = compteur+1\n",
    "    note=int(input(\"saisir la note suivante, ou <0 et >20 pour arrêter \"))\n",
    "print(f\"le nombre de notes est {compteur}\")"
   ]
  },
  {
   "cell_type": "code",
   "execution_count": 10,
   "metadata": {},
   "outputs": [
    {
     "name": "stdin",
     "output_type": "stream",
     "text": [
      "saisir un nombre non nul :  5\n",
      "saisir le nombre suivant ou 0 pour stop :  6\n",
      "saisir le nombre suivant ou 0 pour stop :  8\n",
      "saisir le nombre suivant ou 0 pour stop :  9\n",
      "saisir le nombre suivant ou 0 pour stop :  -10\n",
      "saisir le nombre suivant ou 0 pour stop :  0\n"
     ]
    },
    {
     "name": "stdout",
     "output_type": "stream",
     "text": [
      "18.0\n"
     ]
    }
   ],
   "source": [
    "# accumulation\n",
    "cumul = 0\n",
    "nombre = float(input(\"saisir un nombre non nul : \"))\n",
    "while (nombre != 0) :\n",
    "    cumul = cumul+nombre\n",
    "    nombre = float(input(\"saisir le nombre suivant ou 0 pour stop : \"))\n",
    "print(cumul)"
   ]
  },
  {
   "cell_type": "code",
   "execution_count": 11,
   "metadata": {},
   "outputs": [
    {
     "name": "stdout",
     "output_type": "stream",
     "text": [
      "table du 2\n",
      "2 fois 1 = 2\n",
      "2 fois 2 = 4\n",
      "2 fois 3 = 6\n",
      "2 fois 4 = 8\n",
      "2 fois 5 = 10\n",
      "2 fois 6 = 12\n",
      "2 fois 7 = 14\n",
      "2 fois 8 = 16\n",
      "2 fois 9 = 18\n",
      "2 fois 10 = 20\n",
      "table du 3\n",
      "3 fois 1 = 3\n",
      "3 fois 2 = 6\n",
      "3 fois 3 = 9\n",
      "3 fois 4 = 12\n",
      "3 fois 5 = 15\n",
      "3 fois 6 = 18\n",
      "3 fois 7 = 21\n",
      "3 fois 8 = 24\n",
      "3 fois 9 = 27\n",
      "3 fois 10 = 30\n",
      "table du 4\n",
      "4 fois 1 = 4\n",
      "4 fois 2 = 8\n",
      "4 fois 3 = 12\n",
      "4 fois 4 = 16\n",
      "4 fois 5 = 20\n",
      "4 fois 6 = 24\n",
      "4 fois 7 = 28\n",
      "4 fois 8 = 32\n",
      "4 fois 9 = 36\n",
      "4 fois 10 = 40\n",
      "table du 5\n",
      "5 fois 1 = 5\n",
      "5 fois 2 = 10\n",
      "5 fois 3 = 15\n",
      "5 fois 4 = 20\n",
      "5 fois 5 = 25\n",
      "5 fois 6 = 30\n",
      "5 fois 7 = 35\n",
      "5 fois 8 = 40\n",
      "5 fois 9 = 45\n",
      "5 fois 10 = 50\n",
      "table du 6\n",
      "6 fois 1 = 6\n",
      "6 fois 2 = 12\n",
      "6 fois 3 = 18\n",
      "6 fois 4 = 24\n",
      "6 fois 5 = 30\n",
      "6 fois 6 = 36\n",
      "6 fois 7 = 42\n",
      "6 fois 8 = 48\n",
      "6 fois 9 = 54\n",
      "6 fois 10 = 60\n",
      "table du 7\n",
      "7 fois 1 = 7\n",
      "7 fois 2 = 14\n",
      "7 fois 3 = 21\n",
      "7 fois 4 = 28\n",
      "7 fois 5 = 35\n",
      "7 fois 6 = 42\n",
      "7 fois 7 = 49\n",
      "7 fois 8 = 56\n",
      "7 fois 9 = 63\n",
      "7 fois 10 = 70\n",
      "table du 8\n",
      "8 fois 1 = 8\n",
      "8 fois 2 = 16\n",
      "8 fois 3 = 24\n",
      "8 fois 4 = 32\n",
      "8 fois 5 = 40\n",
      "8 fois 6 = 48\n",
      "8 fois 7 = 56\n",
      "8 fois 8 = 64\n",
      "8 fois 9 = 72\n",
      "8 fois 10 = 80\n",
      "table du 9\n",
      "9 fois 1 = 9\n",
      "9 fois 2 = 18\n",
      "9 fois 3 = 27\n",
      "9 fois 4 = 36\n",
      "9 fois 5 = 45\n",
      "9 fois 6 = 54\n",
      "9 fois 7 = 63\n",
      "9 fois 8 = 72\n",
      "9 fois 9 = 81\n",
      "9 fois 10 = 90\n"
     ]
    }
   ],
   "source": [
    "# boucles imbriquées : tables\n",
    "for table in range (2, 10):\n",
    "    print(f\"table du {table}\")\n",
    "    for i in range (1,11):\n",
    "        print(f\"{table} fois {i} = {table*i}\")"
   ]
  },
  {
   "cell_type": "code",
   "execution_count": 12,
   "metadata": {},
   "outputs": [
    {
     "name": "stdout",
     "output_type": "stream",
     "text": [
      "bonjour\n",
      "hello\n",
      "hello\n",
      "hello\n",
      "hello\n",
      "hello\n",
      "bonjour\n",
      "hello\n",
      "hello\n",
      "hello\n",
      "hello\n",
      "hello\n",
      "bonjour\n",
      "hello\n",
      "hello\n",
      "hello\n",
      "hello\n",
      "hello\n",
      "bonjour\n",
      "hello\n",
      "hello\n",
      "hello\n",
      "hello\n",
      "hello\n",
      "bonjour\n",
      "hello\n",
      "hello\n",
      "hello\n",
      "hello\n",
      "hello\n",
      "bonjour\n",
      "hello\n",
      "hello\n",
      "hello\n",
      "hello\n",
      "hello\n",
      "bonjour\n",
      "hello\n",
      "hello\n",
      "hello\n",
      "hello\n",
      "hello\n",
      "bonjour\n",
      "hello\n",
      "hello\n",
      "hello\n",
      "hello\n",
      "hello\n",
      "bonjour\n",
      "hello\n",
      "hello\n",
      "hello\n",
      "hello\n",
      "hello\n",
      "bonjour\n",
      "hello\n",
      "hello\n",
      "hello\n",
      "hello\n",
      "hello\n"
     ]
    }
   ],
   "source": [
    "# boucles imbriquées, ou pas... v1\n",
    "for truc in range(1,11) :\n",
    "    print(\"bonjour\")\n",
    "    for machin in range(1,6) :\n",
    "        print(\"hello\")"
   ]
  },
  {
   "cell_type": "code",
   "execution_count": 13,
   "metadata": {},
   "outputs": [
    {
     "name": "stdout",
     "output_type": "stream",
     "text": [
      "bonjour\n",
      "bonjour\n",
      "bonjour\n",
      "bonjour\n",
      "bonjour\n",
      "bonjour\n",
      "bonjour\n",
      "bonjour\n",
      "bonjour\n",
      "bonjour\n",
      "hello\n",
      "hello\n",
      "hello\n",
      "hello\n",
      "hello\n"
     ]
    }
   ],
   "source": [
    "# boucles imbriquées, ou pas... v2\n",
    "for truc in range(1,11) :\n",
    "    print(\"bonjour\")\n",
    "for machin in range(1,6) :\n",
    "    print(\"hello\")"
   ]
  },
  {
   "cell_type": "code",
   "execution_count": null,
   "metadata": {},
   "outputs": [],
   "source": []
  }
 ],
 "metadata": {
  "kernelspec": {
   "display_name": "Python 3",
   "language": "python",
   "name": "python3"
  },
  "language_info": {
   "codemirror_mode": {
    "name": "ipython",
    "version": 3
   },
   "file_extension": ".py",
   "mimetype": "text/x-python",
   "name": "python",
   "nbconvert_exporter": "python",
   "pygments_lexer": "ipython3",
   "version": "3.7.5"
  }
 },
 "nbformat": 4,
 "nbformat_minor": 4
}
