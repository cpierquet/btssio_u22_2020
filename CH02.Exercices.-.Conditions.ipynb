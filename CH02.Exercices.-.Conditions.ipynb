{
 "cells": [
  {
   "cell_type": "markdown",
   "metadata": {
    "colab_type": "text",
    "id": "tFYaeWnJuFgv"
   },
   "source": [
    "## **FEUILLE D'EXERCICES - STRUCTURES CONDITIONNELLES**"
   ]
  },
  {
   "cell_type": "code",
   "execution_count": 1,
   "metadata": {},
   "outputs": [
    {
     "name": "stdin",
     "output_type": "stream",
     "text": [
      "Saisir votre chiffre porte-bonheur :  6\n",
      "Saisir votre chiffre porte-bonheur :  6\n"
     ]
    },
    {
     "name": "stdout",
     "output_type": "stream",
     "text": [
      "c'est un bon choix\n"
     ]
    }
   ],
   "source": [
    "# Exercice 1 (Importance de l'indentation)\n",
    "\n",
    "#Algorithme 1\n",
    "n = int(input(\"Saisir votre chiffre porte-bonheur : \"))\n",
    "if n == 7:\n",
    "    print(\"7, comme 60% des personnes\")\n",
    "    print(\"c'est un bon choix\")\n",
    "\n",
    "#Algorithme 2\n",
    "n = int(input(\"Saisir votre chiffre porte-bonheur : \"))\n",
    "if n == 7:\n",
    "    print(\"7, comme 60% des personnes\")\n",
    "print(\"c'est un bon choix\")"
   ]
  },
  {
   "cell_type": "markdown",
   "metadata": {},
   "source": [
    "On constate que la phrase \"C'est un bon choix\" :\n",
    "* n'est affichée que que dans le cas n = 7 pour le v1\n",
    "* est tout le temps affichée dans le v2"
   ]
  },
  {
   "cell_type": "code",
   "execution_count": 2,
   "metadata": {
    "colab": {
     "base_uri": "https://localhost:8080/",
     "height": 68
    },
    "colab_type": "code",
    "executionInfo": {
     "elapsed": 18726,
     "status": "ok",
     "timestamp": 1539374467257,
     "user": {
      "displayName": "Cédric Pierquet",
      "photoUrl": "",
      "userId": "13303666365932756531"
     },
     "user_tz": -120
    },
    "id": "vhha2h-yt9St",
    "outputId": "32146a99-0dfc-4bb8-ae6b-a7a6b53a55d2"
   },
   "outputs": [
    {
     "name": "stdin",
     "output_type": "stream",
     "text": [
      "Quelle est votre taille, en m ?  1.92\n",
      "Quel est votre poids, en kg ?  80\n"
     ]
    },
    {
     "name": "stdout",
     "output_type": "stream",
     "text": [
      "Votre IMC est de 21.70, c'est dans la moyenne\n"
     ]
    }
   ],
   "source": [
    "# Exercice 2 (IMC)\n",
    "\n",
    "taille = float(input(\"Quelle est votre taille, en m ? \"))\n",
    "masse = float(input(\"Quel est votre poids, en kg ? \"))\n",
    "\n",
    "IMC = masse/taille**2\n",
    "\n",
    "if (18.5 <= IMC <= 25): # possible en python\n",
    "    print(f\"Votre IMC est de {IMC:.2f}, c'est dans la moyenne\")\n",
    "elif (IMC > 25):\n",
    "    print(f\"Votre IMC est de {IMC:.2f}, c'est un peu élevé\")\n",
    "else :\n",
    "    print(f\"Votre IMC est de {IMC:.2f}, c'est un peu bas\")\n",
    "\n",
    "# le {var:.2f} permet de formatter <var> en flottant avec deux chiffres après la virgule\n",
    "# bien penser à traiter tous les cas, y compris les = 18.5 et = 25 !"
   ]
  },
  {
   "cell_type": "code",
   "execution_count": 2,
   "metadata": {
    "colab": {
     "base_uri": "https://localhost:8080/",
     "height": 50
    },
    "colab_type": "code",
    "executionInfo": {
     "elapsed": 9649,
     "status": "ok",
     "timestamp": 1539326828427,
     "user": {
      "displayName": "Cédric Pierquet",
      "photoUrl": "",
      "userId": "13303666365932756531"
     },
     "user_tz": -120
    },
    "id": "wzcnwQeruq9W",
    "outputId": "315fd1c1-0775-4fdb-8ba9-dbdbd8d56b5b"
   },
   "outputs": [
    {
     "name": "stdin",
     "output_type": "stream",
     "text": [
      "En quelle année, à deux ans près, est né Guido Van Rossum ?  1957\n"
     ]
    },
    {
     "name": "stdout",
     "output_type": "stream",
     "text": [
      "True\n"
     ]
    }
   ],
   "source": [
    "# Exercice 3 (ROSSUM)\n",
    "\n",
    "anneenaissance = 1956\n",
    "choix = int(input(\"En quelle année, à deux ans près, est né Guido Van Rossum ? \"))\n",
    "\n",
    "if anneenaissance-2 <= choix <= anneenaissance+2 :\n",
    "    print(True)\n",
    "else :\n",
    "    print(False)\n",
    "\n",
    "# on peut penser à travailler avec des booléens"
   ]
  },
  {
   "cell_type": "code",
   "execution_count": 3,
   "metadata": {
    "colab": {
     "base_uri": "https://localhost:8080/",
     "height": 68
    },
    "colab_type": "code",
    "executionInfo": {
     "elapsed": 4760,
     "status": "ok",
     "timestamp": 1538768912226,
     "user": {
      "displayName": "Cédric Pierquet",
      "photoUrl": "",
      "userId": "13303666365932756531"
     },
     "user_tz": -120
    },
    "id": "xwXqU_w3vVn9",
    "outputId": "940fed3a-c8a0-4515-da74-54748784f1ef"
   },
   "outputs": [
    {
     "name": "stdin",
     "output_type": "stream",
     "text": [
      "Entrer un premier réel (x) :  5\n",
      "Entrer un second réel (y) :  -2\n"
     ]
    },
    {
     "name": "stdout",
     "output_type": "stream",
     "text": [
      "Le produit x*y est négatif\n"
     ]
    }
   ],
   "source": [
    "# Exercice 4 (SIGNE)\n",
    "\n",
    "val1 = float(input(\"Entrer un premier réel (x) : \"))\n",
    "val2 = float(input(\"Entrer un second réel (y) : \"))\n",
    "\n",
    "if (val1<0 and val2<0) or (val1>0 and val2>0) :\n",
    "    print(\"Le produit x*y est positif\")\n",
    "elif val1==0 or val2==0 :\n",
    "    print(\"Le produit x*y est nul\")\n",
    "else :\n",
    "    print(\"Le produit x*y est négatif\")"
   ]
  },
  {
   "cell_type": "code",
   "execution_count": 5,
   "metadata": {
    "colab": {
     "base_uri": "https://localhost:8080/",
     "height": 51
    },
    "colab_type": "code",
    "executionInfo": {
     "elapsed": 2456,
     "status": "ok",
     "timestamp": 1538769415892,
     "user": {
      "displayName": "Cédric Pierquet",
      "photoUrl": "",
      "userId": "13303666365932756531"
     },
     "user_tz": -120
    },
    "id": "SQpGtOcJyhdo",
    "outputId": "5fe1d984-3642-4de2-ea33-06cbce9a0d20"
   },
   "outputs": [
    {
     "name": "stdin",
     "output_type": "stream",
     "text": [
      "Entrer un nombre de photocopies :  90\n"
     ]
    },
    {
     "name": "stdout",
     "output_type": "stream",
     "text": [
      "Pour 90 photocopies, il vous en coûtera 11.0€\n"
     ]
    }
   ],
   "source": [
    "# Exercice 5 (PHOTOCOPIES)\n",
    "\n",
    "nb = int(input(\"Entrer un nombre de photocopies : \"))\n",
    "\n",
    "if nb<=10:\n",
    "    prix = 0.20*nb # donc 2€ max\n",
    "elif nb<=20:\n",
    "    prix = 2 + 0.15*(nb-10) # les 2€ des 10 premières et le reste\n",
    "else :\n",
    "    prix = 2 + 3 + 0.10*(nb-30) # les 2€ des 10 premières + les 3€ des 20 suivantes + le reste\n",
    "\n",
    "print(f\"Pour {nb} photocopies, il vous en coûtera {prix}€\")"
   ]
  },
  {
   "cell_type": "code",
   "execution_count": 6,
   "metadata": {},
   "outputs": [
    {
     "name": "stdin",
     "output_type": "stream",
     "text": [
      "Quel est le jour considéré [lundi/mardi/etc] ?  lundi\n",
      "Quelle est l'heure à vérifier [de 0 à 24] ?  10\n"
     ]
    },
    {
     "name": "stdout",
     "output_type": "stream",
     "text": [
      "Le guichet est ouvert le lundi à 10h\n"
     ]
    }
   ],
   "source": [
    "# Exercice 6 (GUICHET) version normale\n",
    "\n",
    "jour = input(\"Quel est le jour considéré [lundi/mardi/etc] ? \")\n",
    "heure = int(input(\"Quelle est l'heure à vérifier [de 0 à 24] ? \"))\n",
    "\n",
    "if jour == \"lundi\" or jour == \"mardi\" or jour == \"mercredi\" or jour == \"jeudi\" or jour == \"vendredi\" :\n",
    "    if (8 <= heure <= 13) or (14 <= heure <= 17) :\n",
    "        print(f\"Le guichet est ouvert le {jour} à {heure}h\")\n",
    "    else :\n",
    "        print(f\"Le guichet est fermé le {jour} à {heure}h\")\n",
    "elif jour == \"samedi\" and (8 <= heure <= 13) :\n",
    "    print(f\"Le guichet est ouvert le {jour} à {heure}h\")\n",
    "else :\n",
    "    print(f\"Le guichet est fermé le {jour} à {heure}h\")"
   ]
  },
  {
   "cell_type": "code",
   "execution_count": 6,
   "metadata": {
    "colab": {
     "base_uri": "https://localhost:8080/",
     "height": 68
    },
    "colab_type": "code",
    "executionInfo": {
     "elapsed": 6966,
     "status": "ok",
     "timestamp": 1538769530375,
     "user": {
      "displayName": "Cédric Pierquet",
      "photoUrl": "",
      "userId": "13303666365932756531"
     },
     "user_tz": -120
    },
    "id": "DkOUgP24zm42",
    "outputId": "4798f443-9e50-4b81-c56b-f7465108001d"
   },
   "outputs": [
    {
     "name": "stdin",
     "output_type": "stream",
     "text": [
      "Quel est le jour considéré [lundi/mardi/etc] ?  mardi\n",
      "Quelle est l'heure à vérifier [de 0 à 24] ?  9\n"
     ]
    },
    {
     "name": "stdout",
     "output_type": "stream",
     "text": [
      "Le guichet est ouvert le mardi à 9h\n"
     ]
    }
   ],
   "source": [
    "# Exercice 6 (GUICHET) version évoluée avec des tableaux (qui seront vus plus tard !)\n",
    "\n",
    "jour = input(\"Quel est le jour considéré [lundi/mardi/etc] ? \")\n",
    "heure = int(input(\"Quelle est l'heure à vérifier [de 0 à 24] ? \"))\n",
    "\n",
    "listejours = [\"lundi\",\"mardi\",\"mercredi\",\"jeudi\",\"vendredi\"]\n",
    "heure_ouverture_lmmjv = [8,9,10,11,12,13,14,15,16,17] # ou range(8,18)\n",
    "heure_ouverture_samedi = [8,9,10,11,12,13] # ou range(8,14)\n",
    "\n",
    "if (jour in listejours and heure in heure_ouverture_lmmjv) or (jour == \"samedi\" and heure in heure_ouverture_samedi):\n",
    "    print(f\"Le guichet est ouvert le {jour} à {heure}h\")\n",
    "else :\n",
    "    print(f\"Le guichet est fermé le {jour} à {heure}h\")"
   ]
  },
  {
   "cell_type": "code",
   "execution_count": 8,
   "metadata": {
    "colab": {
     "base_uri": "https://localhost:8080/",
     "height": 102
    },
    "colab_type": "code",
    "executionInfo": {
     "elapsed": 8404,
     "status": "ok",
     "timestamp": 1538770114352,
     "user": {
      "displayName": "Cédric Pierquet",
      "photoUrl": "",
      "userId": "13303666365932756531"
     },
     "user_tz": -120
    },
    "id": "e8bEO1gV12ZC",
    "outputId": "74c12ffa-62b9-4d2e-876c-26d7b99b27c6"
   },
   "outputs": [
    {
     "name": "stdin",
     "output_type": "stream",
     "text": [
      "Score du candidat 1 (en %) :  13\n",
      "Score du candidat 2 (en %) :  14\n",
      "Score du candidat 3 (en %) :  15\n",
      "Score du candidat 4 (en %) :  16\n"
     ]
    },
    {
     "name": "stdout",
     "output_type": "stream",
     "text": [
      "Le candidat 1 est en ballotage défavorable\n"
     ]
    }
   ],
   "source": [
    "# Exercice 7 (ÉLECTIONS)\n",
    "\n",
    "# Scores des candidats\n",
    "candidat1 = float(input(\"Score du candidat 1 (en %) : \"))\n",
    "candidat2 = float(input(\"Score du candidat 2 (en %) : \"))\n",
    "candidat3 = float(input(\"Score du candidat 3 (en %) : \"))\n",
    "candidat4 = float(input(\"Score du candidat 4 (en %) : \"))\n",
    "\n",
    "# Traitement des données\n",
    "if candidat1 > 50 :\n",
    "    print(\"Le Candidat 1 est élu au premier tour !\")\n",
    "elif candidat1 < 12.5 :\n",
    "    print(\"Le Candidat 1 a perdu, et ce dès le premier tour...\")\n",
    "elif max(candidat1,candidat2,candidat3,candidat4) == candidat1 : # très pratique ça !!\n",
    "    print(\"Le candidat 1 est en ballotage favorable\")\n",
    "else :\n",
    "    print(\"Le candidat 1 est en ballotage défavorable\")"
   ]
  },
  {
   "cell_type": "code",
   "execution_count": 9,
   "metadata": {
    "colab": {
     "base_uri": "https://localhost:8080/",
     "height": 68
    },
    "colab_type": "code",
    "executionInfo": {
     "elapsed": 2766,
     "status": "ok",
     "timestamp": 1538770179617,
     "user": {
      "displayName": "Cédric Pierquet",
      "photoUrl": "",
      "userId": "13303666365932756531"
     },
     "user_tz": -120
    },
    "id": "ryp_8alm2MKy",
    "outputId": "5495f5a8-74a3-4f90-e343-45fd644383e0"
   },
   "outputs": [
    {
     "name": "stdout",
     "output_type": "stream",
     "text": [
      "1 : Pierre ; 2 : Feuille ; 3 : Ciseaux\n"
     ]
    },
    {
     "name": "stdin",
     "output_type": "stream",
     "text": [
      "Quel est votre choix [1,2,3] ?  1\n"
     ]
    },
    {
     "name": "stdout",
     "output_type": "stream",
     "text": [
      "L'ordinateur gagne !\n"
     ]
    }
   ],
   "source": [
    "# Exercice 8 (PFC version normale)\n",
    "\n",
    "from random import *\n",
    "\n",
    "print(\"1 : Pierre ; 2 : Feuille ; 3 : Ciseaux\")\n",
    "joueur = int(input(\"Quel est votre choix [1,2,3] ? \"))\n",
    "ordi = randint(1,3)\n",
    "\n",
    "if (joueur == ordi) :\n",
    "    print(\"Match nul !\")\n",
    "elif (joueur == 1 and ordi == 3) or (joueur == 2 and ordi == 1) or (joueur == 3 and ordi == 2):\n",
    "    print(\"Le joueur gagne !\")\n",
    "else :\n",
    "    print(\"L'ordinateur gagne !\")"
   ]
  },
  {
   "cell_type": "code",
   "execution_count": 10,
   "metadata": {
    "colab": {
     "base_uri": "https://localhost:8080/",
     "height": 68
    },
    "colab_type": "code",
    "executionInfo": {
     "elapsed": 2213,
     "status": "ok",
     "timestamp": 1538770259410,
     "user": {
      "displayName": "Cédric Pierquet",
      "photoUrl": "",
      "userId": "13303666365932756531"
     },
     "user_tz": -120
    },
    "id": "oDmIbc522Z-R",
    "outputId": "f1e5160f-9bf5-4342-df72-20ccb00fb12c"
   },
   "outputs": [
    {
     "name": "stdout",
     "output_type": "stream",
     "text": [
      "1 : Pierre ; 2 : Feuille ; 3 : Ciseaux\n"
     ]
    },
    {
     "name": "stdin",
     "output_type": "stream",
     "text": [
      "Quel est votre choix [1,2,3] ?  1\n"
     ]
    },
    {
     "name": "stdout",
     "output_type": "stream",
     "text": [
      "Pierre vs Ciseaux : Le joueur gagne !\n"
     ]
    }
   ],
   "source": [
    "# Exercice 8 (PFC version optimisée)\n",
    "\n",
    "from random import *\n",
    "\n",
    "jeu = [\"Pierre\",\"Feuille\",\"Ciseaux\"] # liste des résultats : Pierre = n°0 ; Feuille = n°1 ; Ciseaux = n°2\n",
    "print(\"1 : Pierre ; 2 : Feuille ; 3 : Ciseaux\")\n",
    "joueur = int(input(\"Quel est votre choix [1,2,3] ? \"))\n",
    "ordi = randint(1,3)\n",
    "\n",
    "if (joueur == ordi) :\n",
    "    print(f\"{jeu[joueur-1]} vs {jeu[ordi-1]} : Match nul !\")\n",
    "elif (joueur == 1 and ordi == 3) or (joueur == 2 and ordi == 1) or (joueur == 3 and ordi == 2):\n",
    "    print(f\"{jeu[joueur-1]} vs {jeu[ordi-1]} : Le joueur gagne !\")\n",
    "else :\n",
    "    print(f\"{jeu[joueur-1]} vs {jeu[ordi-1]} : L'ordinateur gagne !\")"
   ]
  },
  {
   "cell_type": "code",
   "execution_count": 11,
   "metadata": {
    "colab": {
     "base_uri": "https://localhost:8080/",
     "height": 51
    },
    "colab_type": "code",
    "executionInfo": {
     "elapsed": 2370,
     "status": "ok",
     "timestamp": 1538770517299,
     "user": {
      "displayName": "Cédric Pierquet",
      "photoUrl": "",
      "userId": "13303666365932756531"
     },
     "user_tz": -120
    },
    "id": "HLUOQD3k2uW9",
    "outputId": "1867f122-7789-4691-a3ee-af9dcbd25b48"
   },
   "outputs": [
    {
     "name": "stdin",
     "output_type": "stream",
     "text": [
      "Nombre d'entrées :  45\n"
     ]
    },
    {
     "name": "stdout",
     "output_type": "stream",
     "text": [
      "Le tarif le plus avantageux pour 45 entrées est le Tarif 3, et il est de 20€\n"
     ]
    }
   ],
   "source": [
    "# Exercice 9 (TARIFS)\n",
    "\n",
    "nb = int(input(\"Nombre d'entrées : \"))\n",
    "\n",
    "tarif1 = 3*nb\n",
    "tarif2 = 9+1*nb\n",
    "tarif3=20\n",
    "\n",
    "tarifmini = min(tarif1,tarif2,tarif3) # pratique aussi ici !!\n",
    "if tarifmini == tarif1 :\n",
    "    numtarif = 1\n",
    "elif tarifmini == tarif2:\n",
    "    numtarif = 2\n",
    "else :\n",
    "    numtarif = 3\n",
    "\n",
    "print(f\"Le tarif le plus avantageux pour {nb} entrées est le Tarif {numtarif}, et il est de {tarifmini}€\")\n"
   ]
  }
 ],
 "metadata": {
  "colab": {
   "collapsed_sections": [],
   "name": "U22 - Chapitre 03 - Exercices Conditions.ipynb",
   "provenance": [],
   "version": "0.3.2"
  },
  "kernelspec": {
   "display_name": "Python 3",
   "language": "python",
   "name": "python3"
  },
  "language_info": {
   "codemirror_mode": {
    "name": "ipython",
    "version": 3
   },
   "file_extension": ".py",
   "mimetype": "text/x-python",
   "name": "python",
   "nbconvert_exporter": "python",
   "pygments_lexer": "ipython3",
   "version": "3.9.0"
  }
 },
 "nbformat": 4,
 "nbformat_minor": 4
}
