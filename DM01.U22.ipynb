{
 "cells": [
  {
   "cell_type": "markdown",
   "metadata": {},
   "source": [
    "## **DM01 - Instructions de bases**"
   ]
  },
  {
   "cell_type": "code",
   "execution_count": 2,
   "metadata": {},
   "outputs": [
    {
     "name": "stdin",
     "output_type": "stream",
     "text": [
      "Quelle est la température en °C ? 100\n"
     ]
    },
    {
     "name": "stdout",
     "output_type": "stream",
     "text": [
      "100.0°C correspondent à 212.0°F\n"
     ]
    }
   ],
   "source": [
    "# Algorithme de conversion degrés Celsius en Fahrenheit\n",
    "celsius = float(input(\"Quelle est la température en °C ?\"))\n",
    "fahrenheit = 9/5*celsius + 32\n",
    "print(f\"{celsius}°C correspondent à {fahrenheit}°F\")"
   ]
  },
  {
   "cell_type": "code",
   "execution_count": 3,
   "metadata": {},
   "outputs": [
    {
     "name": "stdin",
     "output_type": "stream",
     "text": [
      "Quelle est le montant emprunté (en euros) ? 10000\n",
      "Quelle est la durée du prêt (en années) ? 4\n",
      "Quelle est le taux annuel (en pourcentage) ? 2.5\n"
     ]
    },
    {
     "name": "stdout",
     "output_type": "stream",
     "text": [
      "Tu vas devoir rembourser 219.14 euros par mois\n",
      "et le coût de ton prêt est de 518.74 euros\n"
     ]
    }
   ],
   "source": [
    "# Algorithme de calcul de la mensualité d'un prêt et de son coût\n",
    "montant = int(input(\"Quelle est le montant emprunté (en euros) ?\"))\n",
    "duree = int(input(\"Quelle est la durée du prêt (en années) ?\"))\n",
    "taux = float(input(\"Quelle est le taux annuel (en pourcentage) ?\"))\n",
    "tauxm , dureem = taux/100/12 , duree*12\n",
    "mensualite = (tauxm * montant)/(1-(1+tauxm)**(-dureem))\n",
    "cout = dureem * mensualite - montant\n",
    "print(f\"Tu vas devoir rembourser {mensualite:.2f} euros par mois\")\n",
    "print(f\"et le coût de ton prêt est de {cout:.2f} euros\")"
   ]
  },
  {
   "cell_type": "code",
   "execution_count": null,
   "metadata": {},
   "outputs": [],
   "source": []
  }
 ],
 "metadata": {
  "kernelspec": {
   "display_name": "Python 3",
   "language": "python",
   "name": "python3"
  },
  "language_info": {
   "codemirror_mode": {
    "name": "ipython",
    "version": 3
   },
   "file_extension": ".py",
   "mimetype": "text/x-python",
   "name": "python",
   "nbconvert_exporter": "python",
   "pygments_lexer": "ipython3",
   "version": "3.9.0"
  }
 },
 "nbformat": 4,
 "nbformat_minor": 4
}
