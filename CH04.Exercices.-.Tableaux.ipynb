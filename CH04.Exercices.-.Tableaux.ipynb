{
 "cells": [
  {
   "cell_type": "markdown",
   "metadata": {},
   "source": [
    "# **Tableaux - Exercices**"
   ]
  },
  {
   "cell_type": "markdown",
   "metadata": {},
   "source": [
    "## **Une dimension**"
   ]
  },
  {
   "cell_type": "code",
   "execution_count": 1,
   "metadata": {},
   "outputs": [
    {
     "name": "stdin",
     "output_type": "stream",
     "text": [
      "Valeur à stocker :  1\n",
      "Valeur à stocker :  2\n",
      "Valeur à stocker :  3\n",
      "Valeur à stocker :  4\n",
      "Valeur à stocker :  5\n",
      "Valeur à stocker :  -6\n",
      "Valeur à stocker :  7\n",
      "Valeur à stocker :  0\n",
      "Valeur à stocker :  9\n"
     ]
    },
    {
     "name": "stdout",
     "output_type": "stream",
     "text": [
      "[1.0, 2.0, 3.0, 4.0, 5.0, -6.0, 7.0, 0.0, 9.0]\n",
      "[2.0, 4.0, 6.0, 8.0, 10.0, -12.0, 14.0, 0.0, 18.0]\n"
     ]
    }
   ],
   "source": [
    "# EXO01\n",
    "\n",
    "tabl1 = ['' for i in range(0,9)] # tableau vide\n",
    "tabl2 = ['' for i in range(0,9)] # tableau vide\n",
    "for i in range(0,9):\n",
    "    tabl1[i] = float(input(\"Valeur à stocker : \"))\n",
    "    tabl2[i] = tabl1[i]*2\n",
    "print(tabl1)\n",
    "print(tabl2)"
   ]
  },
  {
   "cell_type": "code",
   "execution_count": 2,
   "metadata": {},
   "outputs": [
    {
     "name": "stdin",
     "output_type": "stream",
     "text": [
      "Taille du tableau :  5\n",
      "Valeur à stocker :  0\n",
      "Valeur à stocker :  1\n",
      "Valeur à stocker :  29\n",
      "Valeur à stocker :  10\n",
      "Valeur à stocker :  -5\n"
     ]
    },
    {
     "name": "stdout",
     "output_type": "stream",
     "text": [
      "[0, 1, 29, 10, -5]\n"
     ]
    },
    {
     "name": "stdin",
     "output_type": "stream",
     "text": [
      "Valeur à ajouter :  1\n",
      "Voulez-vous continuer (o/n) ?  o\n",
      "Valeur à ajouter :  2\n",
      "Voulez-vous continuer (o/n) ?  o\n",
      "Valeur à ajouter :  96\n",
      "Voulez-vous continuer (o/n) ?  o\n",
      "Valeur à ajouter :  -12\n",
      "Voulez-vous continuer (o/n) ?  n\n"
     ]
    },
    {
     "name": "stdout",
     "output_type": "stream",
     "text": [
      "[1, 2, 96, -12]\n",
      "[1, 2, 30, 11, -4]\n"
     ]
    }
   ],
   "source": [
    "# EXO02\n",
    "\n",
    "# 1)\n",
    "n = int(input(\"Taille du tableau : \"))\n",
    "tabl1 = ['' for i in range(0,n)]\n",
    "for i in range(0,n):\n",
    "    tabl1[i] = int(input(\"Valeur à stocker : \"))\n",
    "print(tabl1)\n",
    "\n",
    "# 2)\n",
    "continuer = 'o'\n",
    "tabl2 = [] # tableau vide\n",
    "while continuer == 'o':\n",
    "    val = int(input(\"Valeur à ajouter : \"))\n",
    "    tabl2.append(val) # ou tabl2 = tabl2 + [val]\n",
    "    continuer  = input(\"Voulez-vous continuer (o/n) ? \")\n",
    "print(tabl2)\n",
    "\n",
    "# 3)\n",
    "print(\"------------\")\n",
    "print([tabl1[i]+1 for i in range(0,n)])"
   ]
  },
  {
   "cell_type": "code",
   "execution_count": 12,
   "metadata": {},
   "outputs": [
    {
     "name": "stdin",
     "output_type": "stream",
     "text": [
      "Combien de valeurs ?  5\n",
      "Entrer une valeur :  1\n",
      "Entrer une valeur :  2\n",
      "Entrer une valeur :  -6\n",
      "Entrer une valeur :  -5\n",
      "Entrer une valeur :  1\n"
     ]
    },
    {
     "name": "stdout",
     "output_type": "stream",
     "text": [
      "La moyenne est de -1.40, il y a 3 nombres positifs, et 2 nombres négatives\n"
     ]
    }
   ],
   "source": [
    "# EXO03\n",
    "\n",
    "n = int(input(\"Combien de valeurs ? \"))\n",
    "tabl = ['' for i in range(0,n)]\n",
    "nb_pos = 0\n",
    "nb_neg = 0\n",
    "for i in range(0,n):\n",
    "    tabl[i] = int(input(\"Entrer une valeur : \"))\n",
    "    if tabl[i] >= 0 :\n",
    "        nb_pos = nb_pos +1\n",
    "    else :\n",
    "        nb_neg = nb_neg +1\n",
    "moy = sum(tabl)/n\n",
    "print(f\"La moyenne est de {moy:.2f}, il y a {nb_pos} nombres positifs, et {nb_neg} nombres négatifs\")"
   ]
  },
  {
   "cell_type": "code",
   "execution_count": 19,
   "metadata": {},
   "outputs": [
    {
     "name": "stdout",
     "output_type": "stream",
     "text": [
      "L=[21, 24, 27, 30]\n",
      "T=[20, 22, 23, 25, 26, 28, 29]\n"
     ]
    }
   ],
   "source": [
    "# EXO04\n",
    "\n",
    "T = [20,21,22,23,24,25,26,27,28,29,30]\n",
    "L = []\n",
    "for i in range(0,len(T)):\n",
    "    if T[i]%3 == 0:\n",
    "        L = L + [T[i]]\n",
    "print(f\"L={L}\")\n",
    "for i in range(0,len(L)):\n",
    "    T.remove(L[i])\n",
    "print(f\"T={T}\")"
   ]
  }
 ],
 "metadata": {
  "kernelspec": {
   "display_name": "Python 3",
   "language": "python",
   "name": "python3"
  },
  "language_info": {
   "codemirror_mode": {
    "name": "ipython",
    "version": 3
   },
   "file_extension": ".py",
   "mimetype": "text/x-python",
   "name": "python",
   "nbconvert_exporter": "python",
   "pygments_lexer": "ipython3",
   "version": "3.9.2"
  }
 },
 "nbformat": 4,
 "nbformat_minor": 4
}
