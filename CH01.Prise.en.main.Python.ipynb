{
 "cells": [
  {
   "cell_type": "markdown",
   "metadata": {},
   "source": [
    "## **Prise en main du langage Python**"
   ]
  },
  {
   "cell_type": "markdown",
   "metadata": {},
   "source": [
    "**Exercice 1**"
   ]
  },
  {
   "cell_type": "code",
   "execution_count": 1,
   "metadata": {},
   "outputs": [
    {
     "name": "stdout",
     "output_type": "stream",
     "text": [
      "452.38896\n",
      "<class 'int'> <class 'float'> <class 'float'>\n"
     ]
    }
   ],
   "source": [
    "r , pi = 12 , 3.14159\n",
    "s = pi * r**2\n",
    "print(s)\n",
    "print(type(r), type(pi), type(s))"
   ]
  },
  {
   "cell_type": "markdown",
   "metadata": {},
   "source": [
    "**Exercice 2**"
   ]
  },
  {
   "cell_type": "code",
   "execution_count": 1,
   "metadata": {},
   "outputs": [
    {
     "name": "stdin",
     "output_type": "stream",
     "text": [
      "entrez un nombre entier (à 8 chiffres par exemple ) :  12345678\n",
      "entrez un autre entier (à 6 chiffres par exemple ):  654321\n"
     ]
    },
    {
     "name": "stdout",
     "output_type": "stream",
     "text": [
      "12345678654321\n",
      "654321654321654321654321\n"
     ]
    }
   ],
   "source": [
    "a = input (\"entrez un nombre entier (à 8 chiffres par exemple ) : \")\n",
    "b = input (\"entrez un autre entier (à 6 chiffres par exemple ): \")\n",
    "c = a+b\n",
    "d = b*4\n",
    "print (c)\n",
    "print (d)"
   ]
  },
  {
   "cell_type": "markdown",
   "metadata": {},
   "source": [
    "**Exercice 3**"
   ]
  },
  {
   "cell_type": "code",
   "execution_count": 11,
   "metadata": {},
   "outputs": [
    {
     "name": "stdout",
     "output_type": "stream",
     "text": [
      "<class 'int'>\n",
      "<class 'float'>\n",
      "Bonjour\n",
      "<class 'str'>\n",
      "<class 'bool'>\n",
      "2.0\n",
      "<class 'float'>\n",
      "2\n",
      "<class 'int'>\n",
      "3*** 3*** 2*** 2\n",
      "a+f =  5  et l+m =  32\n",
      " Salut \n",
      " tu vas bien ?\n",
      " Salut \n",
      " tu vas bien ? texte\n"
     ]
    },
    {
     "name": "stdin",
     "output_type": "stream",
     "text": [
      "Tapez votre prénom :  Titus\n"
     ]
    },
    {
     "name": "stdout",
     "output_type": "stream",
     "text": [
      "Vous vous appelez :  Titus\n"
     ]
    },
    {
     "name": "stdin",
     "output_type": "stream",
     "text": [
      "Donnez-moi un nombre :  10\n",
      "Donnez-moi un entier :  8\n"
     ]
    },
    {
     "name": "stdout",
     "output_type": "stream",
     "text": [
      "8.0\n"
     ]
    },
    {
     "name": "stdin",
     "output_type": "stream",
     "text": [
      "Donnez-moi un entier :  2\n"
     ]
    },
    {
     "name": "stdout",
     "output_type": "stream",
     "text": [
      "2\n",
      "True\n",
      "False\n",
      "True\n",
      "False\n",
      "True\n",
      "True\n",
      "False\n",
      "True\n",
      "False\n",
      "False\n",
      "True\n",
      "37 = 7 x 5 + 2\n"
     ]
    }
   ],
   "source": [
    "a=3\n",
    "print(type(a))\n",
    "\n",
    "b=5.3\n",
    "print(type(b))\n",
    "\n",
    "c = \"Bonjour\"\n",
    "print(c)\n",
    "print(type(c))\n",
    "\n",
    "d = (a>1)\n",
    "print(type(d))\n",
    "\n",
    "e = 6/3\n",
    "print(e)\n",
    "print(type(e))\n",
    "\n",
    "f = 6//3\n",
    "print(f)\n",
    "print(type(f))\n",
    "\n",
    "g = a+b\n",
    "type (g)\n",
    "g\n",
    "\n",
    "h = a+f\n",
    "type (h)\n",
    "h\n",
    "\n",
    "i = \" 3.14 \"\n",
    "type (i)\n",
    "j = float (i)\n",
    "type (j)\n",
    "\n",
    "#k = i+j   TypeError: can only concatenate str (not \"float\") to str\n",
    "#print(k)\n",
    "\n",
    "l = str(a)\n",
    "m = str(f)\n",
    "print (a, l, f, m, sep =\"*** \")\n",
    "print (\"a+f = \",a+f,\" et l+m = \",l+m)\n",
    "\n",
    "texte = \" Salut \\n tu vas bien ?\"\n",
    "print(texte)\n",
    "print(texte,\"texte\")\n",
    "prenom = input(\"Tapez votre prénom : \")\n",
    "print(\"Vous vous appelez : \", prenom)\n",
    "\n",
    "n = input (\"Donnez-moi un nombre : \")\n",
    "#p = n+7\n",
    "#print(p)    TypeError: can only concatenate str (not \"int\") to str\n",
    "\n",
    "q = float(input(\"Donnez-moi un entier : \"))\n",
    "print(q)\n",
    "\n",
    "r = int(input(\"Donnez-moi un entier : \"))\n",
    "print(r)\n",
    "\n",
    "#s = int( input(\"Tapez PI à 10^( -2) : \"))    ValueError: invalid literal for int() with base 10: '3.14'\n",
    "\n",
    "t = 8\n",
    "u = \" Truc \"\n",
    "P = (t <= 10)\n",
    "Q = (u == \"truc\")\n",
    "R = (u < \"truc\")\n",
    "print(P)\n",
    "print(Q)\n",
    "print(R)\n",
    "print(P and Q)\n",
    "print(P or Q)\n",
    "print(P or R)\n",
    "print(not R)\n",
    "print(P or (not R))\n",
    "print(P and (not R))\n",
    "print((not P) and Q)\n",
    "print(not (P and Q))\n",
    "\n",
    "v = 37\n",
    "w = 7\n",
    "quotient = v//w\n",
    "reste = v%w\n",
    "print (v, \"=\", w, \"x\", quotient ,\"+\", reste )"
   ]
  },
  {
   "cell_type": "markdown",
   "metadata": {},
   "source": [
    "**Exercice 4**"
   ]
  },
  {
   "cell_type": "code",
   "execution_count": 14,
   "metadata": {},
   "outputs": [
    {
     "name": "stdout",
     "output_type": "stream",
     "text": [
      "2.72\n",
      "20.1\n",
      "1.718\n",
      "2\n",
      "-2\n",
      "1\n",
      "7.389\n",
      "0.69\n",
      "1.414\n",
      "K\n",
      "109\n",
      "11\n",
      "VOICI HENRI\n",
      "voici henri\n",
      "H\n",
      "e\n",
      "i Henri\n",
      "Voi\n",
      "nri\n",
      "2\n",
      "10\n",
      "-1\n"
     ]
    }
   ],
   "source": [
    "from math import *\n",
    "\n",
    "x = 2.718\n",
    "print(round(x, 2))\n",
    "print(round(x**3, 1))\n",
    "print(abs(1 - x))\n",
    "print(floor(x))\n",
    "print(floor(1 - x))\n",
    "print(floor(abs(1 - x)))\n",
    "\n",
    "print(round(exp(2), 3))\n",
    "print(round(log(2), 2))\n",
    "print(round(sqrt(2), 3))\n",
    "\n",
    "print(chr(75))\n",
    "print(ord('m'))\n",
    "\n",
    "texte = \"Voici Henri\"\n",
    "#print(float(texte))    ValueError: could not convert string to float: 'Voici Henri'\n",
    "print(len(texte))\n",
    "print(texte.upper())\n",
    "print(texte.lower())\n",
    "print(texte[6])\n",
    "print(texte[7 :8])\n",
    "print(texte[4 :])\n",
    "print(texte[ :3])\n",
    "print(texte[-3 :])\n",
    "print(texte.find(\"i\"))\n",
    "print(texte.find(\"i\",5))\n",
    "print(texte.find(\"i\",5,9))"
   ]
  },
  {
   "cell_type": "code",
   "execution_count": null,
   "metadata": {},
   "outputs": [],
   "source": []
  }
 ],
 "metadata": {
  "kernelspec": {
   "display_name": "Python 3",
   "language": "python",
   "name": "python3"
  },
  "language_info": {
   "codemirror_mode": {
    "name": "ipython",
    "version": 3
   },
   "file_extension": ".py",
   "mimetype": "text/x-python",
   "name": "python",
   "nbconvert_exporter": "python",
   "pygments_lexer": "ipython3",
   "version": "3.8.5"
  }
 },
 "nbformat": 4,
 "nbformat_minor": 4
}
