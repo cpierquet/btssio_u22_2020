{
 "cells": [
  {
   "cell_type": "markdown",
   "metadata": {},
   "source": [
    "# **TD02 - Conditions**\n",
    "\n",
    "Maintenant au tour du deuxième TD, cette fois-ci sur les structures conditionnelles."
   ]
  },
  {
   "cell_type": "markdown",
   "metadata": {},
   "source": [
    "# Le cadre\n",
    "\n",
    "On s'intéresse aux différentes catégories d'âge en Athlétisme.\n",
    "\n",
    "![title](img/athle2020.png)\n"
   ]
  },
  {
   "cell_type": "markdown",
   "metadata": {},
   "source": [
    "# Le travail à faire\n",
    "\n",
    "Vous devez créer un programme python qui :\n",
    "* demande à l'utlisateur son prénom ;\n",
    "* demande à l'utilisateur son année de naissance ;\n",
    "* renvoie une phrase précisant prénom, année de naissance, catégorie, code de catégorie (y compris les codes spécifiques Masters).\n",
    "\n",
    "La sortie pourra ressembler à :\n",
    "\n",
    "<font color='red'>Bonjour, <_prénom_>, tu es né(e) en <_annee_>, tu es donc en catégorie <_catégorie_> (code <_code_>).</font>"
   ]
  },
  {
   "cell_type": "code",
   "execution_count": 1,
   "metadata": {},
   "outputs": [
    {
     "name": "stdin",
     "output_type": "stream",
     "text": [
      "Quel est votre prénom ?  Essai\n",
      "Quel est votre année de naissance ?  1967\n"
     ]
    },
    {
     "name": "stdout",
     "output_type": "stream",
     "text": [
      "Bonjour Essai, tu es né(e) en 1967, tu es donc en catégorie Masters (code M3)\n"
     ]
    }
   ],
   "source": [
    "# Algorithme catégories Athlétisme\n",
    "\n",
    "prenom = input(\"Quel est votre prénom ? \")\n",
    "annee = int(input(\"Quel est votre année de naissance ? \"))\n",
    "\n",
    "if annee <= 1986 :\n",
    "    categorie = \"Masters\"\n",
    "    if 1982 <= annee <= 1986 :\n",
    "        code = \"M0\"\n",
    "    elif 1977 <= annee <=1981 :\n",
    "        code = \"M1\"\n",
    "    elif 1972 <= annee <=1976 :\n",
    "        code = \"M2\"\n",
    "    elif 1967 <= annee <=1971 :\n",
    "        code = \"M3\"\n",
    "    elif 1962 <= annee <=1966 :\n",
    "        code = \"M4\"\n",
    "    elif 1957 <= annee <=1961 :\n",
    "        code = \"M5\"\n",
    "    elif 1952 <= annee <=1956 :\n",
    "        code = \"M6\"\n",
    "    elif 1947 <= annee <=1951 :\n",
    "        code = \"M7\"\n",
    "    elif 1942 <= annee <=1946 :\n",
    "        code = \"M8\"\n",
    "    elif 1937 <= annee <=1941 :\n",
    "        code = \"M9\"\n",
    "    else :\n",
    "        code = \"M10\"\n",
    "elif 1987 <= annee <= 1998 :\n",
    "    categorie = \"Seniors\"\n",
    "    code = \"VE\"\n",
    "elif 1999 <= annee <= 2001 :\n",
    "    categorie = \"Espoirs\"\n",
    "    code = \"ES\"\n",
    "elif 2002 <= annee <= 2003 :\n",
    "    categorie = \"Juniors\"\n",
    "    code = \"JU\"\n",
    "elif 2004 <= annee <= 2005 :\n",
    "    categorie = \"Cadets\"\n",
    "    code = \"CA\"\n",
    "elif 2006 <= annee <= 2007 :\n",
    "    categorie = \"Minimes\"\n",
    "    code = \"MI\"\n",
    "elif 2008 <= annee <= 2009 :\n",
    "    categorie = \"Benjamins\"\n",
    "    code = \"BE\"\n",
    "elif 2010 <= annee <= 2011 :\n",
    "    categorie = \"Poussins\"\n",
    "    code = \"PO\"\n",
    "elif 2012 <= annee <= 2014 :\n",
    "    categorie = \"École d'Athlétisme\"\n",
    "    code = \"EA\"\n",
    "else :\n",
    "    categorie = \"Baby Athlé\"\n",
    "    code = \"BB\"\n",
    "\n",
    "print(f\"Bonjour {prenom}, tu es né(e) en {annee}, tu es donc en catégorie {categorie} (code {code})\")"
   ]
  },
  {
   "cell_type": "markdown",
   "metadata": {},
   "source": [
    "# Bonus\n",
    "\n",
    "Vous pouvez essayer de modifier le programme précédent pour adapter la sortie en fonction du sexe de la personne :\n",
    "* ... tu es né...\n",
    "* ... tu es née..."
   ]
  },
  {
   "cell_type": "code",
   "execution_count": 3,
   "metadata": {},
   "outputs": [
    {
     "name": "stdin",
     "output_type": "stream",
     "text": [
      "Quel est votre prénom ?  Essai\n",
      "Quel est votre année de naissance ?  1985\n",
      "Femme ou Homme [F/H] ?  F\n"
     ]
    },
    {
     "name": "stdout",
     "output_type": "stream",
     "text": [
      "Bonjour Essai, tu es née en 1985, tu es donc en catégorie Masters (code M0)\n"
     ]
    }
   ],
   "source": [
    "# Algorithme catégories Athlétisme v2\n",
    "\n",
    "prenom = input(\"Quel est votre prénom ? \")\n",
    "annee = int(input(\"Quel est votre année de naissance ? \"))\n",
    "sexe = input(\"Femme ou Homme [F/H] ? \")\n",
    "\n",
    "if annee <= 1986 :\n",
    "    categorie = \"Masters\"\n",
    "    if 1982 <= annee <= 1986 :\n",
    "        code = \"M0\"\n",
    "    elif 1977 <= annee <=1981 :\n",
    "        code = \"M1\"\n",
    "    elif 1972 <= annee <=1976 :\n",
    "        code = \"M2\"\n",
    "    elif 1967 <= annee <=1971 :\n",
    "        code = \"M3\"\n",
    "    elif 1962 <= annee <=1966 :\n",
    "        code = \"M4\"\n",
    "    elif 1957 <= annee <=1961 :\n",
    "        code = \"M5\"\n",
    "    elif 1952 <= annee <=1956 :\n",
    "        code = \"M6\"\n",
    "    elif 1947 <= annee <=1951 :\n",
    "        code = \"M7\"\n",
    "    elif 1942 <= annee <=1946 :\n",
    "        code = \"M8\"\n",
    "    elif 1937 <= annee <=1941 :\n",
    "        code = \"M9\"\n",
    "    else :\n",
    "        code = \"M10\"\n",
    "elif 1987 <= annee <= 1998 :\n",
    "    categorie = \"Seniors\"\n",
    "    code = \"VE\"\n",
    "elif 1999 <= annee <= 2001 :\n",
    "    categorie = \"Espoirs\"\n",
    "    code = \"ES\"\n",
    "elif 2002 <= annee <= 2003 :\n",
    "    categorie = \"Juniors\"\n",
    "    code = \"JU\"\n",
    "elif 2004 <= annee <= 2005 :\n",
    "    categorie = \"Cadets\"\n",
    "    code = \"CA\"\n",
    "elif 2006 <= annee <= 2007 :\n",
    "    categorie = \"Minimes\"\n",
    "    code = \"MI\"\n",
    "elif 2008 <= annee <= 2009 :\n",
    "    categorie = \"Benjamins\"\n",
    "    code = \"BE\"\n",
    "elif 2010 <= annee <= 2011 :\n",
    "    categorie = \"Poussins\"\n",
    "    code = \"PO\"\n",
    "elif 2012 <= annee <= 2014 :\n",
    "    categorie = \"École d'Athlétisme\"\n",
    "    code = \"EA\"\n",
    "else :\n",
    "    categorie = \"Baby Athlé\"\n",
    "    code = \"BB\"\n",
    "\n",
    "if sexe == \"F\" or sexe == \"f\" :\n",
    "    adjectif = \"née\"\n",
    "else :\n",
    "    adjectif = \"né\"\n",
    "\n",
    "print(f\"Bonjour {prenom}, tu es {adjectif} en {annee}, tu es donc en catégorie {categorie} (code {code})\")"
   ]
  },
  {
   "cell_type": "code",
   "execution_count": null,
   "metadata": {},
   "outputs": [],
   "source": []
  }
 ],
 "metadata": {
  "kernelspec": {
   "display_name": "Python 3",
   "language": "python",
   "name": "python3"
  },
  "language_info": {
   "codemirror_mode": {
    "name": "ipython",
    "version": 3
   },
   "file_extension": ".py",
   "mimetype": "text/x-python",
   "name": "python",
   "nbconvert_exporter": "python",
   "pygments_lexer": "ipython3",
   "version": "3.9.0"
  }
 },
 "nbformat": 4,
 "nbformat_minor": 4
}
