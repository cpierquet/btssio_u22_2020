{
 "cells": [
  {
   "cell_type": "markdown",
   "metadata": {
    "colab_type": "text",
    "id": "tFYaeWnJuFgv"
   },
   "source": [
    "## FEUILLE D'EXERCICES - STRUCTURES ITÉRATIVES"
   ]
  },
  {
   "cell_type": "code",
   "execution_count": 2,
   "metadata": {
    "colab": {
     "base_uri": "https://localhost:8080/",
     "height": 119
    },
    "colab_type": "code",
    "executionInfo": {
     "elapsed": 9796,
     "status": "ok",
     "timestamp": 1539459508387,
     "user": {
      "displayName": "Cédric Pierquet",
      "photoUrl": "",
      "userId": "13303666365932756531"
     },
     "user_tz": -120
    },
    "id": "QwntNtb17osi",
    "outputId": "85fd41fb-1579-4be5-c21e-fc524d2e6b97"
   },
   "outputs": [
    {
     "name": "stdin",
     "output_type": "stream",
     "text": [
      "Saisir un entier positif : 10\n",
      "Saisir un message : abc\n"
     ]
    },
    {
     "name": "stdout",
     "output_type": "stream",
     "text": [
      "abc\n",
      "abc\n",
      "abc\n",
      "abc\n",
      "abc\n",
      "abc\n",
      "abc\n",
      "abc\n",
      "abc\n",
      "abc\n"
     ]
    }
   ],
   "source": [
    "# EXERCICE 01\n",
    "\n",
    "n = int(input(\"Saisir un entier positif :\"))\n",
    "message = input(\"Saisir un message :\")\n",
    "\n",
    "for i in range(1,n+1): # boucle à n étapes (on aurait pu utliser range(0,n) également)\n",
    "    print(message)"
   ]
  },
  {
   "cell_type": "code",
   "execution_count": 3,
   "metadata": {
    "colab": {
     "base_uri": "https://localhost:8080/",
     "height": 238
    },
    "colab_type": "code",
    "executionInfo": {
     "elapsed": 3167,
     "status": "ok",
     "timestamp": 1539459644737,
     "user": {
      "displayName": "Cédric Pierquet",
      "photoUrl": "",
      "userId": "13303666365932756531"
     },
     "user_tz": -120
    },
    "id": "9kPOctXp8AtK",
    "outputId": "ea057c9e-8cde-4707-de37-593e9959ed57"
   },
   "outputs": [
    {
     "name": "stdin",
     "output_type": "stream",
     "text": [
      "Saisir un entier positif : 5\n"
     ]
    },
    {
     "name": "stdout",
     "output_type": "stream",
     "text": [
      "5\n",
      "4\n",
      "3\n",
      "2\n",
      "1\n",
      "0\n",
      "Boum !!\n",
      "\n"
     ]
    },
    {
     "name": "stdin",
     "output_type": "stream",
     "text": [
      "Saisir un entier positif : 7\n"
     ]
    },
    {
     "name": "stdout",
     "output_type": "stream",
     "text": [
      "7\n",
      "6\n",
      "5\n",
      "4\n",
      "3\n",
      "2\n",
      "1\n",
      "0\n",
      "Boum !\n"
     ]
    }
   ],
   "source": [
    "# EXERCICE 02\n",
    "\n",
    "# version boucle pour\n",
    "n = int(input(\"Saisir un entier positif :\"))\n",
    "for i in range(0,n+1):\n",
    "    print(n-i)\n",
    "print(\"Boum !!\")\n",
    "print(\"\")\n",
    "\n",
    "# version boucle tant que\n",
    "n = int(input(\"Saisir un entier positif :\"))\n",
    "while n >= 0 :\n",
    "    print(n)\n",
    "    n = n-1\n",
    "print(\"Boum !\")\n"
   ]
  },
  {
   "cell_type": "code",
   "execution_count": 4,
   "metadata": {
    "colab": {
     "base_uri": "https://localhost:8080/",
     "height": 323
    },
    "colab_type": "code",
    "executionInfo": {
     "elapsed": 11555,
     "status": "ok",
     "timestamp": 1539460001042,
     "user": {
      "displayName": "Cédric Pierquet",
      "photoUrl": "",
      "userId": "13303666365932756531"
     },
     "user_tz": -120
    },
    "id": "MqU9rVHR8iva",
    "outputId": "4ac055e4-ed74-416f-f136-27ca052bc613"
   },
   "outputs": [
    {
     "name": "stdin",
     "output_type": "stream",
     "text": [
      "Saisir un entier positif : 6\n"
     ]
    },
    {
     "name": "stdout",
     "output_type": "stream",
     "text": [
      "******\n"
     ]
    },
    {
     "name": "stdin",
     "output_type": "stream",
     "text": [
      "Saisir un entier positif : 5\n"
     ]
    },
    {
     "name": "stdout",
     "output_type": "stream",
     "text": [
      "******\n",
      "******\n",
      "******\n",
      "******\n",
      "******\n"
     ]
    },
    {
     "name": "stdin",
     "output_type": "stream",
     "text": [
      "Saisir un entier positif : 7\n"
     ]
    },
    {
     "name": "stdout",
     "output_type": "stream",
     "text": [
      "*\n",
      "**\n",
      "***\n",
      "****\n",
      "*****\n",
      "******\n",
      "*******\n"
     ]
    }
   ],
   "source": [
    "# EXERCICE 03\n",
    "\n",
    "L = int(input(\"Saisir un entier positif :\"))\n",
    "print(L*\"*\")\n",
    "\n",
    "l = int(input(\"Saisir un entier positif :\"))\n",
    "for i in range(1,l+1): # ou range(0,l)\n",
    "    print(L*\"*\")\n",
    "\n",
    "N = int(input(\"Saisir un entier positif :\"))\n",
    "for i in range(1,N+1): # ou range(0,N)\n",
    "    print(i*\"*\")"
   ]
  },
  {
   "cell_type": "code",
   "execution_count": 5,
   "metadata": {
    "colab": {
     "base_uri": "https://localhost:8080/",
     "height": 136
    },
    "colab_type": "code",
    "executionInfo": {
     "elapsed": 18467,
     "status": "ok",
     "timestamp": 1539460408158,
     "user": {
      "displayName": "Cédric Pierquet",
      "photoUrl": "",
      "userId": "13303666365932756531"
     },
     "user_tz": -120
    },
    "id": "QjBWmeQ4-GFm",
    "outputId": "40b2e672-f55a-4fec-e2dc-657b7c37ee7b"
   },
   "outputs": [
    {
     "name": "stdin",
     "output_type": "stream",
     "text": [
      "Saisir un réel : 10\n",
      "Avez-vous un autre nombre à saisir ? [o/n] : o\n",
      "Saisir un réel : 15\n",
      "Avez-vous un autre nombre à saisir ? [o/n] : o\n",
      "Saisir un réel : 8\n",
      "Avez-vous un autre nombre à saisir ? [o/n] : n\n"
     ]
    },
    {
     "name": "stdout",
     "output_type": "stream",
     "text": [
      "La valeur maximale qui a été saisie est 15.0\n"
     ]
    }
   ],
   "source": [
    "# EXERCICE 04\n",
    "\n",
    "saisie = \"o\"\n",
    "valeurmax = 0\n",
    "\n",
    "while saisie == \"o\":\n",
    "    reel = float(input(\"Saisir un réel :\"))\n",
    "    valeurmax = max(valeurmax,reel)\n",
    "    saisie = input(\"Avez-vous un autre nombre à saisir ? [o/n] :\")\n",
    "\n",
    "print(f\"La valeur maximale qui a été saisie est {valeurmax}\")"
   ]
  },
  {
   "cell_type": "code",
   "execution_count": 6,
   "metadata": {
    "colab": {
     "base_uri": "https://localhost:8080/",
     "height": 170
    },
    "colab_type": "code",
    "executionInfo": {
     "elapsed": 12536,
     "status": "ok",
     "timestamp": 1539460691240,
     "user": {
      "displayName": "Cédric Pierquet",
      "photoUrl": "",
      "userId": "13303666365932756531"
     },
     "user_tz": -120
    },
    "id": "ZCgYzsaW_jyT",
    "outputId": "85ea77b8-2aef-4a04-c661-a5dba6704b74"
   },
   "outputs": [
    {
     "name": "stdin",
     "output_type": "stream",
     "text": [
      "Saisir une note : 15\n",
      "Avez-vous une autre note à saisir ? [o/n] : o\n",
      "Saisir une note : 10\n",
      "Avez-vous une autre note à saisir ? [o/n] : o\n",
      "Saisir une note : 8\n",
      "Avez-vous une autre note à saisir ? [o/n] : o\n",
      "Saisir une note : 5\n",
      "Avez-vous une autre note à saisir ? [o/n] : o\n",
      "Saisir une note : 16\n",
      "Avez-vous une autre note à saisir ? [o/n] : n\n"
     ]
    },
    {
     "name": "stdout",
     "output_type": "stream",
     "text": [
      "Vous avez saisi 5 notes\n",
      "La somme de ces notes est 54\n",
      "La moyenne de ces notes est 10.80\n"
     ]
    }
   ],
   "source": [
    "# EXERCICE 05 v1\n",
    "\n",
    "saisie = \"o\"\n",
    "compteur = 0\n",
    "cumul = 0\n",
    "\n",
    "while saisie == \"o\":\n",
    "    note = int(input(\"Saisir une note :\"))\n",
    "    compteur = compteur + 1\n",
    "    cumul = cumul + note\n",
    "    saisie = input(\"Avez-vous une autre note à saisir ? [o/n] :\")\n",
    "\n",
    "\n",
    "moyenne = cumul/compteur\n",
    "\n",
    "print(f\"La moyenne de ces notes est {moyenne:.2f}\")\n",
    "print(f\"Vous avez saisi {compteur} notes\")\n",
    "print(f\"La somme de ces notes est {cumul}\")"
   ]
  },
  {
   "cell_type": "code",
   "execution_count": 7,
   "metadata": {
    "colab": {
     "base_uri": "https://localhost:8080/",
     "height": 170
    },
    "colab_type": "code",
    "executionInfo": {
     "elapsed": 12918,
     "status": "ok",
     "timestamp": 1539460898262,
     "user": {
      "displayName": "Cédric Pierquet",
      "photoUrl": "",
      "userId": "13303666365932756531"
     },
     "user_tz": -120
    },
    "id": "qCU2v58-AjY1",
    "outputId": "bf695ffd-2b9d-4399-8b66-24d849514b82"
   },
   "outputs": [
    {
     "name": "stdin",
     "output_type": "stream",
     "text": [
      "Saisir une note : 10\n",
      "Avez-vous une autre note à saisir ? [o/n] : o\n",
      "Saisir une note : 11\n",
      "Avez-vous une autre note à saisir ? [o/n] : o\n",
      "Saisir une note : 9\n",
      "Avez-vous une autre note à saisir ? [o/n] : n\n"
     ]
    },
    {
     "name": "stdout",
     "output_type": "stream",
     "text": [
      "Vous avez saisi 3 notes\n",
      "Il y avait 2 notes supérieures ou égales à 10\n",
      "Le pourcentage de ces notes est de 66.67%\n"
     ]
    }
   ],
   "source": [
    "# EXERCICE 05 v2\n",
    "\n",
    "saisie = \"o\"\n",
    "compteur = 0\n",
    "compteurpos = 0\n",
    "\n",
    "while saisie == \"o\":\n",
    "    note = int(input(\"Saisir une note :\"))\n",
    "    compteur = compteur + 1\n",
    "    if note >=10:\n",
    "        compteurpos  = compteurpos + 1\n",
    "    saisie = input(\"Avez-vous une autre note à saisir ? [o/n] :\")\n",
    "\n",
    "pourcentage = compteurpos/compteur*100\n",
    "\n",
    "print(f\"Vous avez saisi {compteur} notes\")\n",
    "print(f\"Il y avait {compteurpos} notes supérieures ou égales à 10\")\n",
    "print(f\"Le pourcentage de ces notes est de {pourcentage:.2f}%\")"
   ]
  },
  {
   "cell_type": "code",
   "execution_count": 8,
   "metadata": {
    "colab": {
     "base_uri": "https://localhost:8080/",
     "height": 204
    },
    "colab_type": "code",
    "executionInfo": {
     "elapsed": 14673,
     "status": "ok",
     "timestamp": 1539461084508,
     "user": {
      "displayName": "Cédric Pierquet",
      "photoUrl": "",
      "userId": "13303666365932756531"
     },
     "user_tz": -120
    },
    "id": "q-RZupK2BdnO",
    "outputId": "8753fdfb-c6d9-4797-90d9-efb57bcd8982"
   },
   "outputs": [
    {
     "name": "stdin",
     "output_type": "stream",
     "text": [
      "Combien de notes voulez-vous saisir ? 5\n",
      "Saisir une note : 7\n",
      "Saisir une note : 8\n",
      "Saisir une note : 9\n",
      "Saisir une note : 10\n",
      "Saisir une note : 11\n"
     ]
    },
    {
     "name": "stdout",
     "output_type": "stream",
     "text": [
      "Vous avez saisi 5 notes\n",
      "Il y avait 2 notes supérieures ou égales à 10\n",
      "Le pourcentage de ces notes est de 40.00%\n"
     ]
    }
   ],
   "source": [
    "# EXERCICE 05 v3\n",
    "\n",
    "n = int(input(\"Combien de notes voulez-vous saisir ?\"))\n",
    "compteurpos = 0\n",
    "\n",
    "for i in range(1,n+1):\n",
    "    note = int(input(\"Saisir une note :\"))\n",
    "    if note >=10:\n",
    "        compteurpos = compteurpos + 1\n",
    "\n",
    "pourcentage = compteurpos/n*100\n",
    "\n",
    "print(f\"Vous avez saisi {n} notes\")\n",
    "print(f\"Il y avait {compteurpos} notes supérieures ou égales à 10\")\n",
    "print(f\"Le pourcentage de ces notes est de {pourcentage:.2f}%\")"
   ]
  },
  {
   "cell_type": "code",
   "execution_count": 9,
   "metadata": {
    "colab": {
     "base_uri": "https://localhost:8080/",
     "height": 255
    },
    "colab_type": "code",
    "executionInfo": {
     "elapsed": 19980,
     "status": "ok",
     "timestamp": 1539499400408,
     "user": {
      "displayName": "Cédric Pierquet",
      "photoUrl": "",
      "userId": "13303666365932756531"
     },
     "user_tz": -120
    },
    "id": "af6jSQQRCa75",
    "outputId": "822be169-6a85-473c-b82a-cabac102b44f"
   },
   "outputs": [
    {
     "name": "stdin",
     "output_type": "stream",
     "text": [
      "Saisir un réel : 1\n",
      "Saisir un réel : 2\n",
      "Saisir un réel : 3\n",
      "Saisir un réel : 4\n",
      "Saisir un réel : 5\n",
      "Saisir un réel : 6\n",
      "Saisir un réel : -2\n",
      "Saisir un réel : -3\n",
      "Saisir un réel : 0\n",
      "Saisir un réel : 5\n"
     ]
    },
    {
     "name": "stdout",
     "output_type": "stream",
     "text": [
      "Vous avez saisi 8 valeurs positives\n",
      "La moyenne des valeurs positives est de 3.25\n",
      "Vous avez saisi 2 valeurs negatives\n",
      "La moyenne des valeurs négatives est de -2.50\n"
     ]
    }
   ],
   "source": [
    "# EXERCICE 06\n",
    "\n",
    "compteurpos = 0\n",
    "compteurneg = 0\n",
    "cumulpos = 0\n",
    "cumulneg = 0\n",
    "\n",
    "for i in range(10):\n",
    "    reel = int(input(\"Saisir un réel :\"))\n",
    "    if reel >=0:\n",
    "        compteurpos = compteurpos + 1\n",
    "        cumulpos = cumulpos + reel\n",
    "    else :\n",
    "        compteurneg = compteurneg + 1\n",
    "        cumulneg = cumulneg + reel\n",
    "\n",
    "print(f\"Vous avez saisi {compteurpos} valeurs positives\")\n",
    "print(f\"La moyenne des valeurs positives est de {cumulpos/compteurpos:.2f}\")\n",
    "print(f\"Vous avez saisi {compteurneg} valeurs negatives\")\n",
    "print(f\"La moyenne des valeurs négatives est de {cumulneg/compteurneg:.2f}\")"
   ]
  },
  {
   "cell_type": "code",
   "execution_count": 10,
   "metadata": {
    "colab": {
     "base_uri": "https://localhost:8080/",
     "height": 51
    },
    "colab_type": "code",
    "executionInfo": {
     "elapsed": 4130,
     "status": "ok",
     "timestamp": 1539700310386,
     "user": {
      "displayName": "Cédric Pierquet",
      "photoUrl": "",
      "userId": "13303666365932756531"
     },
     "user_tz": -120
    },
    "id": "J3dV8tYlDwKI",
    "outputId": "455e8947-0fd0-43d6-94b0-58fa0687a74b"
   },
   "outputs": [
    {
     "name": "stdin",
     "output_type": "stream",
     "text": [
      "Saisir un entier n : 10\n"
     ]
    },
    {
     "name": "stdout",
     "output_type": "stream",
     "text": [
      "1+2+...+10=55\n"
     ]
    }
   ],
   "source": [
    "# EXERCICE 07\n",
    "\n",
    "n = int(input(\"Saisir un entier n :\"))\n",
    "S = 0\n",
    "\n",
    "for i in range(1,n+1):\n",
    "    S=S+i\n",
    "\n",
    "print(f\"1+2+...+{n}={S}\")"
   ]
  },
  {
   "cell_type": "code",
   "execution_count": 11,
   "metadata": {
    "colab": {
     "base_uri": "https://localhost:8080/",
     "height": 170
    },
    "colab_type": "code",
    "executionInfo": {
     "elapsed": 3712,
     "status": "ok",
     "timestamp": 1539462351127,
     "user": {
      "displayName": "Cédric Pierquet",
      "photoUrl": "",
      "userId": "13303666365932756531"
     },
     "user_tz": -120
    },
    "id": "Bzm1sJMPFuvE",
    "outputId": "e8efe383-d2d7-401d-d324-6747bd89cf45"
   },
   "outputs": [
    {
     "name": "stdin",
     "output_type": "stream",
     "text": [
      "Saisir le premier terme u0 (non nul) : 10\n"
     ]
    },
    {
     "name": "stdout",
     "output_type": "stream",
     "text": [
      "10\n",
      "5\n",
      "16\n",
      "8\n",
      "4\n",
      "2\n",
      "1\n"
     ]
    }
   ],
   "source": [
    "# EXERCICE 08\n",
    "\n",
    "u = int(input(\"Saisir le premier terme u0 (non nul) :\"))\n",
    "print(u)\n",
    "\n",
    "while u != 1:\n",
    "    if u%2 == 0:\n",
    "        u = u//2\n",
    "    else:\n",
    "        u = 3*u + 1\n",
    "    print(u)"
   ]
  },
  {
   "cell_type": "code",
   "execution_count": 12,
   "metadata": {
    "colab": {
     "base_uri": "https://localhost:8080/",
     "height": 51
    },
    "colab_type": "code",
    "executionInfo": {
     "elapsed": 6403,
     "status": "ok",
     "timestamp": 1539463062332,
     "user": {
      "displayName": "Cédric Pierquet",
      "photoUrl": "",
      "userId": "13303666365932756531"
     },
     "user_tz": -120
    },
    "id": "rBztjnrvG6Po",
    "outputId": "90607f3c-ab3f-4230-abfe-a06f6f4e01e4"
   },
   "outputs": [
    {
     "name": "stdin",
     "output_type": "stream",
     "text": [
      "Saisir un réel e, en km : 380000\n"
     ]
    },
    {
     "name": "stdout",
     "output_type": "stream",
     "text": [
      "Pour dépasser 380000.0 km, il faut plier 43 fois la feuille !\n"
     ]
    }
   ],
   "source": [
    "# EXERCICE 09\n",
    "\n",
    "e = float(input(\"Saisir un réel e, en km :\"))\n",
    "epaisseur = 0.05*10**(-6)\n",
    "compteur = 0\n",
    "\n",
    "while epaisseur < e:\n",
    "    epaisseur = epaisseur*2\n",
    "    compteur = compteur + 1\n",
    "\n",
    "print(f\"Pour dépasser {e} km, il faut plier {compteur} fois la feuille !\")"
   ]
  },
  {
   "cell_type": "code",
   "execution_count": 13,
   "metadata": {},
   "outputs": [
    {
     "name": "stdout",
     "output_type": "stream",
     "text": [
      "Essai n° : 1\n"
     ]
    },
    {
     "name": "stdin",
     "output_type": "stream",
     "text": [
      "Entrer un nombre entier entre 1 et 1000 : 500\n"
     ]
    },
    {
     "name": "stdout",
     "output_type": "stream",
     "text": [
      "Ton nombre, 500, est trop grand !\n",
      "Essai n° : 2\n"
     ]
    },
    {
     "name": "stdin",
     "output_type": "stream",
     "text": [
      "Entrer un nombre entier entre 1 et 1000 : 250\n"
     ]
    },
    {
     "name": "stdout",
     "output_type": "stream",
     "text": [
      "Ton nombre, 250, est trop grand !\n",
      "Essai n° : 3\n"
     ]
    },
    {
     "name": "stdin",
     "output_type": "stream",
     "text": [
      "Entrer un nombre entier entre 1 et 1000 : 125\n"
     ]
    },
    {
     "name": "stdout",
     "output_type": "stream",
     "text": [
      "Ton nombre, 125, est trop petit !\n",
      "Essai n° : 4\n"
     ]
    },
    {
     "name": "stdin",
     "output_type": "stream",
     "text": [
      "Entrer un nombre entier entre 1 et 1000 : 180\n"
     ]
    },
    {
     "name": "stdout",
     "output_type": "stream",
     "text": [
      "Ton nombre, 180, est trop grand !\n",
      "Essai n° : 5\n"
     ]
    },
    {
     "name": "stdin",
     "output_type": "stream",
     "text": [
      "Entrer un nombre entier entre 1 et 1000 : 160\n"
     ]
    },
    {
     "name": "stdout",
     "output_type": "stream",
     "text": [
      "Ton nombre, 160, est trop petit !\n",
      "Essai n° : 6\n"
     ]
    },
    {
     "name": "stdin",
     "output_type": "stream",
     "text": [
      "Entrer un nombre entier entre 1 et 1000 : 170\n"
     ]
    },
    {
     "name": "stdout",
     "output_type": "stream",
     "text": [
      "Ton nombre, 170, est trop grand !\n",
      "Essai n° : 7\n"
     ]
    },
    {
     "name": "stdin",
     "output_type": "stream",
     "text": [
      "Entrer un nombre entier entre 1 et 1000 : 165\n"
     ]
    },
    {
     "name": "stdout",
     "output_type": "stream",
     "text": [
      "Ton nombre, 165, est trop grand !\n",
      "Essai n° : 8\n"
     ]
    },
    {
     "name": "stdin",
     "output_type": "stream",
     "text": [
      "Entrer un nombre entier entre 1 et 1000 : 163\n"
     ]
    },
    {
     "name": "stdout",
     "output_type": "stream",
     "text": [
      "Ton nombre, 163, est trop grand !\n",
      "Essai n° : 9\n"
     ]
    },
    {
     "name": "stdin",
     "output_type": "stream",
     "text": [
      "Entrer un nombre entier entre 1 et 1000 : 162\n"
     ]
    },
    {
     "name": "stdout",
     "output_type": "stream",
     "text": [
      "Ton nombre, 162, est trop grand !\n",
      "Essai n° : 10\n"
     ]
    },
    {
     "name": "stdin",
     "output_type": "stream",
     "text": [
      "Entrer un nombre entier entre 1 et 1000 : 161\n"
     ]
    },
    {
     "name": "stdout",
     "output_type": "stream",
     "text": [
      "tu as trouvé le bon nombre, 161\n"
     ]
    }
   ],
   "source": [
    "# EXERCICE 10 (DEVINER)\n",
    "\n",
    "from random import *\n",
    "\n",
    "nbcoups = 0\n",
    "tirage = randint(1,1000)\n",
    "\n",
    "essai = 0\n",
    "\n",
    "while nbcoups <10 and essai != tirage :\n",
    "    nbcoups = nbcoups + 1\n",
    "    print(f\"Essai n° : {nbcoups}\")\n",
    "    essai = int(input(\"Entrer un nombre entier entre 1 et 1000 :\"))\n",
    "    if essai < tirage :\n",
    "        print(f\"Ton nombre, {essai}, est trop petit !\")\n",
    "    elif essai > tirage :\n",
    "        print(f\"Ton nombre, {essai}, est trop grand !\")\n",
    "    else :\n",
    "        print(f\"tu as trouvé le bon nombre, {tirage}\")\n",
    "if nbcoups == 10 and essai != tirage :\n",
    "    print(f\"Tu as perdu..., il fallait trouver {tirage}\")"
   ]
  },
  {
   "cell_type": "code",
   "execution_count": 14,
   "metadata": {},
   "outputs": [
    {
     "name": "stdin",
     "output_type": "stream",
     "text": [
      "Enter un ISBN (13 chiffres) : 9782729877828\n"
     ]
    },
    {
     "name": "stdout",
     "output_type": "stream",
     "text": [
      "ISBN correct\n"
     ]
    }
   ],
   "source": [
    "# EXERCICE 11 (ISBN)\n",
    "# se traite avec des chaînes\n",
    "\n",
    "isbn = input(\"Enter un ISBN (13 chiffres) :\")\n",
    "somme = 0\n",
    "for i in range(0,12):\n",
    "    somme = somme + int(isbn[i])\n",
    "for i in range(1,12,2):\n",
    "    somme = somme + 2*int(isbn[i])\n",
    "cle = 10 - (somme % 10)\n",
    "if cle == (int(isbn)%10) :\n",
    "    print(\"ISBN correct\")\n",
    "else :\n",
    "    print(\"ISBN incorrect...\")"
   ]
  },
  {
   "cell_type": "code",
   "execution_count": null,
   "metadata": {},
   "outputs": [],
   "source": []
  }
 ],
 "metadata": {
  "colab": {
   "collapsed_sections": [],
   "name": "U22 - Chapitre 03 - Exercices Boucles.ipynb",
   "provenance": [
    {
     "file_id": "14F6Xz9oVepGfvndd_BWf_Rsj-xhvdnvc",
     "timestamp": 1539458636638
    }
   ],
   "version": "0.3.2"
  },
  "kernelspec": {
   "display_name": "Python 3",
   "language": "python",
   "name": "python3"
  },
  "language_info": {
   "codemirror_mode": {
    "name": "ipython",
    "version": 3
   },
   "file_extension": ".py",
   "mimetype": "text/x-python",
   "name": "python",
   "nbconvert_exporter": "python",
   "pygments_lexer": "ipython3",
   "version": "3.9.1"
  }
 },
 "nbformat": 4,
 "nbformat_minor": 4
}
