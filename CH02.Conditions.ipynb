{
 "cells": [
  {
   "cell_type": "markdown",
   "metadata": {},
   "source": [
    "## **CHAPITRE 2 - CONDITIONS**"
   ]
  },
  {
   "cell_type": "markdown",
   "metadata": {},
   "source": [
    "Dans ce chapitre, on travaille sur une première structure particulière : la structure **conditionnelle** *si*.\n",
    "\n",
    "Comme toute structure, python la gère sous forme d'un *bloc*, dans lequel les instructions sont décalées par rapport à la structure, on parle d'**indentation**.\n",
    "\n",
    "En python, il n'est pas utile de fermer les blocs, c'est l'indentation qui va permettre à python de comprendre où commence et où s'arrête le bloc !\n",
    "\n",
    "À noter également que pour déclarer à python qu'un bloc va commencer, il ne faut pas oublier les \":\".\n",
    "Dans les éditeurs actuels, le fait de bien mettre les \":\" va créer automatiquement l'indentation lors du passage à la ligne !"
   ]
  },
  {
   "cell_type": "code",
   "execution_count": 1,
   "metadata": {},
   "outputs": [
    {
     "name": "stdin",
     "output_type": "stream",
     "text": [
      "Saisir un entier positif :  17\n"
     ]
    },
    {
     "name": "stdout",
     "output_type": "stream",
     "text": [
      "Le nombre saisi est impair\n",
      "Le plus gd nb pair inférieur ou égal à 17 est 16\n",
      "Le plus gd nb pair inférieur ou égal à 17 est 16\n"
     ]
    }
   ],
   "source": [
    "# Nombre pair v1\n",
    "Nb = int(input(\"Saisir un entier positif : \"))\n",
    "NbPair = Nb # on initialise la réponse à Nb\n",
    "if ((Nb % 2) == 1): # si toutefois le Nb est pair, on modifie NbPair\n",
    "    print(\"Le nombre saisi est impair\")\n",
    "    NbPair = Nb - 1\n",
    "print(\"Le plus gd nb pair inférieur ou égal à\", Nb , \"est\" ,NbPair) #Affichage standard\n",
    "print(f\"Le plus gd nb pair inférieur ou égal à {Nb} est {NbPair}\") #Affichage formaté"
   ]
  },
  {
   "cell_type": "code",
   "execution_count": 2,
   "metadata": {},
   "outputs": [
    {
     "name": "stdout",
     "output_type": "stream",
     "text": [
      "Entrer deux réels\n"
     ]
    },
    {
     "name": "stdin",
     "output_type": "stream",
     "text": [
      "Saisir le 1er :  12.0\n",
      "Saisir le 2nd :  1506\n"
     ]
    },
    {
     "name": "stdout",
     "output_type": "stream",
     "text": [
      "Le maximum est 1506.0\n"
     ]
    }
   ],
   "source": [
    "# Maximum v1\n",
    "print(\"Entrer deux réels\")\n",
    "A = float(input(\"Saisir le 1er : \"))\n",
    "B = float(input(\"Saisir le 2nd : \"))\n",
    "Max = A # on décide que le maximum est la valeur A\n",
    "if B > A: # si toutefois B est plus grand, on change le max en B\n",
    "    Max = B\n",
    "print(f\"Le maximum est {Max}\")"
   ]
  },
  {
   "cell_type": "code",
   "execution_count": 9,
   "metadata": {},
   "outputs": [
    {
     "name": "stdin",
     "output_type": "stream",
     "text": [
      "Saisir un entier positif :  16\n"
     ]
    },
    {
     "name": "stdout",
     "output_type": "stream",
     "text": [
      "Le nombre saisi est pair\n",
      "Le plus gd nb pair inférieur ou égal à 16 est 16\n"
     ]
    }
   ],
   "source": [
    "# Nombre pair v2\n",
    "Nb = int(input(\"Saisir un entier positif : \"))\n",
    "if ((Nb % 2) == 0):\n",
    "    print(\"Le nombre saisi est pair\")\n",
    "    NbPair = Nb\n",
    "else :\n",
    "    NbPair = Nb - 1\n",
    "print(f\"Le plus gd nb pair inférieur ou égal à {Nb} est {NbPair}\")"
   ]
  },
  {
   "cell_type": "code",
   "execution_count": 10,
   "metadata": {},
   "outputs": [
    {
     "name": "stdout",
     "output_type": "stream",
     "text": [
      "Entrer deux réels\n"
     ]
    },
    {
     "name": "stdin",
     "output_type": "stream",
     "text": [
      "Saisir le 1er :  12.5\n",
      "Saisir le 2nd :  12.6\n"
     ]
    },
    {
     "name": "stdout",
     "output_type": "stream",
     "text": [
      "Le maximum est 12.6\n"
     ]
    }
   ],
   "source": [
    "# Maximum v2\n",
    "print(\"Entrer deux réels\")\n",
    "A = float(input(\"Saisir le 1er : \"))\n",
    "B = float(input(\"Saisir le 2nd : \"))\n",
    "if A > B:\n",
    "    Max = A\n",
    "else : # et si A=B on est dans ce cas-là, et le max est bien B (ou A !)\n",
    "    Max = B\n",
    "print(f\"Le maximum est {Max}\")"
   ]
  },
  {
   "cell_type": "code",
   "execution_count": 16,
   "metadata": {},
   "outputs": [
    {
     "name": "stdin",
     "output_type": "stream",
     "text": [
      "Quel est vôtre âge ?  18\n"
     ]
    },
    {
     "name": "stdout",
     "output_type": "stream",
     "text": [
      "Voter : True, Conduire Possible seul\n"
     ]
    }
   ],
   "source": [
    "# Voter ou Conduire (v1) : Succession de SI\n",
    "Age = int(input(\"Quel est vôtre âge ? \"))\n",
    "if (Age >= 18) :\n",
    "    Voter = True\n",
    "    Conduire = \"Possible seul\"\n",
    "if ((Age >= 15) and (Age < 18)): # ne pas télescoper les conditions !\n",
    "    Voter = False\n",
    "    Conduire = \"Possible accompagné\"\n",
    "if (Age < 15) :\n",
    "    Voter = False\n",
    "    Conduire = \"Impossible\"\n",
    "print(f\"Voter : {Voter}, Conduire : {Conduire}\")"
   ]
  },
  {
   "cell_type": "code",
   "execution_count": 17,
   "metadata": {},
   "outputs": [
    {
     "name": "stdin",
     "output_type": "stream",
     "text": [
      "Quel est vôtre âge ?  16\n"
     ]
    },
    {
     "name": "stdout",
     "output_type": "stream",
     "text": [
      "Voter : False, Conduire : Possible accompagné\n"
     ]
    }
   ],
   "source": [
    "# Voter ou Conduire (v2) : Imbrications de SI\n",
    "Age = int(input(\"Quel est vôtre âge ? \"))\n",
    "if (Age >= 18) :\n",
    "    Voter = True\n",
    "    Conduire = \"Possible seul\"\n",
    "else :\n",
    "    Voter = False # forcément c'est faux !\n",
    "    if (Age >= 15):\n",
    "        Conduire = \"Possible accompagné\"\n",
    "    else :\n",
    "        Conduire = \"Impossible\"\n",
    "print(f\"Voter : {Voter}, Conduire : {Conduire}\")"
   ]
  },
  {
   "cell_type": "code",
   "execution_count": 18,
   "metadata": {},
   "outputs": [
    {
     "name": "stdin",
     "output_type": "stream",
     "text": [
      "Quel est vôtre âge ?  14\n"
     ]
    },
    {
     "name": "stdout",
     "output_type": "stream",
     "text": [
      "Voter : False, Conduire : Impossible\n"
     ]
    }
   ],
   "source": [
    "# Voter ou Conduire (v3) : Utilisation de SinonSi\n",
    "Age = int(input(\"Quel est vôtre âge ? \"))\n",
    "if (Age >= 18) :\n",
    "    Voter = True\n",
    "    Conduire = \"Possible seul\"\n",
    "elif (Age >= 15):\n",
    "    Voter = False\n",
    "    Conduire = \"Possible accompagné\"\n",
    "else :\n",
    "    Voter = False\n",
    "    Conduire = \"Impossible\"\n",
    "print(f\"Voter : {Voter}, Conduire : {Conduire}\")"
   ]
  },
  {
   "cell_type": "code",
   "execution_count": null,
   "metadata": {},
   "outputs": [],
   "source": []
  }
 ],
 "metadata": {
  "kernelspec": {
   "display_name": "Python 3",
   "language": "python",
   "name": "python3"
  },
  "language_info": {
   "codemirror_mode": {
    "name": "ipython",
    "version": 3
   },
   "file_extension": ".py",
   "mimetype": "text/x-python",
   "name": "python",
   "nbconvert_exporter": "python",
   "pygments_lexer": "ipython3",
   "version": "3.8.6"
  }
 },
 "nbformat": 4,
 "nbformat_minor": 4
}
